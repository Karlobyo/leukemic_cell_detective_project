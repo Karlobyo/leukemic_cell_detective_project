{
  "cells": [
    {
      "cell_type": "markdown",
      "metadata": {
        "id": "jHCcCge-aq4b"
      },
      "source": [
        "## Dataset from kaggle\n",
        "https://www.kaggle.com/datasets/andrewmvd/leukemia-classification"
      ]
    },
    {
      "cell_type": "markdown",
      "metadata": {
        "id": "GSHMTPuklFp2"
      },
      "source": [
        "Original dataset\n",
        "https://wiki.cancerimagingarchive.net/pages/viewpage.action?pageId=52758223"
      ]
    },
    {
      "cell_type": "markdown",
      "metadata": {
        "id": "x2NlnnNHa_az"
      },
      "source": [
        "Gupta, A., & Gupta, R. (2019). ALL Challenge dataset of ISBI 2019 [Data set]. The Cancer Imaging Archive. https://doi.org/10.7937/tcia.2019.dc64i46r"
      ]
    },
    {
      "cell_type": "code",
      "execution_count": 1,
      "metadata": {
        "id": "ZnsQZ5zAx_p9"
      },
      "outputs": [
        {
          "name": "stderr",
          "output_type": "stream",
          "text": [
            "2023-03-13 15:46:25.479377: I tensorflow/core/platform/cpu_feature_guard.cc:193] This TensorFlow binary is optimized with oneAPI Deep Neural Network Library (oneDNN) to use the following CPU instructions in performance-critical operations:  AVX2 FMA\n",
            "To enable them in other operations, rebuild TensorFlow with the appropriate compiler flags.\n"
          ]
        }
      ],
      "source": [
        "# import needed libraries\n",
        "\n",
        "import numpy as np \n",
        "import pandas as pd \n",
        "import os\n",
        "import cv2 as cv\n",
        "import matplotlib.pyplot as plt\n",
        "from PIL import Image\n",
        "import io\n",
        "from io import BytesIO\n",
        "import tensorflow\n",
        "from tensorflow import keras\n",
        "#import seaborn as sns\n",
        "import matplotlib.pyplot as plt"
      ]
    },
    {
      "cell_type": "markdown",
      "metadata": {
        "id": "XEEQBPlO0VpZ"
      },
      "source": [
        "### 1) Load Data\n"
      ]
    },
    {
      "cell_type": "code",
      "execution_count": 3,
      "metadata": {
        "id": "7_7P603_0Vpa"
      },
      "outputs": [],
      "source": [
        "from google.cloud import storage\n",
        "\n",
        "# Create a client object using the credentials file\n",
        "client = storage.Client.from_service_account_json(credentials_path)\n",
        "bucket = client.bucket('leukemic-1')"
      ]
    },
    {
      "cell_type": "code",
      "execution_count": 4,
      "metadata": {
        "id": "AZoED3Wu0Vpa"
      },
      "outputs": [],
      "source": [
        "# setting files paths\n",
        "\n",
        "all_0 = bucket.blob(\"C-NMC_Leukemia/training_data/fold_0/all\")\n",
        "all_1 = bucket.blob(\"C-NMC_Leukemia/training_data/fold_1/all\")\n",
        "all_2 = bucket.blob(\"C-NMC_Leukemia/training_data/fold_2/all\")\n",
        "\n",
        "hem_0 = bucket.blob(\"C-NMC_Leukemia/training_data/fold_0/hem\")\n",
        "hem_1 = bucket.blob(\"C-NMC_Leukemia/training_data/fold_1/hem\")\n",
        "hem_2 = bucket.blob(\"C-NMC_Leukemia/training_data/fold_2/hem\")"
      ]
    },
    {
      "cell_type": "code",
      "execution_count": 5,
      "metadata": {
        "id": "1p78AoAv0Vpa"
      },
      "outputs": [],
      "source": [
        "def get_path_image(folder):\n",
        "    image_paths = []\n",
        "    for blob in bucket.list_blobs(prefix=folder.name):\n",
        "        image_path = blob.name\n",
        "        image_paths.append(image_path)\n",
        "    return image_paths"
      ]
    },
    {
      "cell_type": "code",
      "execution_count": 6,
      "metadata": {
        "colab": {
          "base_uri": "https://localhost:8080/"
        },
        "id": "9IoLT7vX0Vpb",
        "outputId": "8e4c7ea4-89ee-425f-ae37-05b4c9ac06dc"
      },
      "outputs": [
        {
          "name": "stdout",
          "output_type": "stream",
          "text": [
            "10661\n"
          ]
        }
      ],
      "source": [
        "# load training data\n",
        "\n",
        "img_data = []\n",
        "\n",
        "for i in [all_0,all_1,all_2,hem_0,hem_1,hem_2]:\n",
        "    paths = get_path_image(i)\n",
        "    \n",
        "    img_data.extend(paths)\n",
        "    \n",
        "print(len(img_data))"
      ]
    },
    {
      "cell_type": "code",
      "execution_count": 7,
      "metadata": {
        "colab": {
          "base_uri": "https://localhost:8080/",
          "height": 424
        },
        "id": "c2hImfR_6KLC",
        "outputId": "053be6e3-db81-4a79-fed1-4d31145b4bc9"
      },
      "outputs": [
        {
          "data": {
            "text/html": [
              "<div>\n",
              "<style scoped>\n",
              "    .dataframe tbody tr th:only-of-type {\n",
              "        vertical-align: middle;\n",
              "    }\n",
              "\n",
              "    .dataframe tbody tr th {\n",
              "        vertical-align: top;\n",
              "    }\n",
              "\n",
              "    .dataframe thead th {\n",
              "        text-align: right;\n",
              "    }\n",
              "</style>\n",
              "<table border=\"1\" class=\"dataframe\">\n",
              "  <thead>\n",
              "    <tr style=\"text-align: right;\">\n",
              "      <th></th>\n",
              "      <th>img_data</th>\n",
              "      <th>labels</th>\n",
              "    </tr>\n",
              "  </thead>\n",
              "  <tbody>\n",
              "    <tr>\n",
              "      <th>0</th>\n",
              "      <td>C-NMC_Leukemia/training_data/fold_0/all/UID_11...</td>\n",
              "      <td>NaN</td>\n",
              "    </tr>\n",
              "    <tr>\n",
              "      <th>1</th>\n",
              "      <td>C-NMC_Leukemia/training_data/fold_0/all/UID_11...</td>\n",
              "      <td>NaN</td>\n",
              "    </tr>\n",
              "    <tr>\n",
              "      <th>2</th>\n",
              "      <td>C-NMC_Leukemia/training_data/fold_0/all/UID_11...</td>\n",
              "      <td>NaN</td>\n",
              "    </tr>\n",
              "    <tr>\n",
              "      <th>3</th>\n",
              "      <td>C-NMC_Leukemia/training_data/fold_0/all/UID_11...</td>\n",
              "      <td>NaN</td>\n",
              "    </tr>\n",
              "    <tr>\n",
              "      <th>4</th>\n",
              "      <td>C-NMC_Leukemia/training_data/fold_0/all/UID_11...</td>\n",
              "      <td>NaN</td>\n",
              "    </tr>\n",
              "    <tr>\n",
              "      <th>...</th>\n",
              "      <td>...</td>\n",
              "      <td>...</td>\n",
              "    </tr>\n",
              "    <tr>\n",
              "      <th>10656</th>\n",
              "      <td>C-NMC_Leukemia/training_data/fold_2/hem/UID_h3...</td>\n",
              "      <td>NaN</td>\n",
              "    </tr>\n",
              "    <tr>\n",
              "      <th>10657</th>\n",
              "      <td>C-NMC_Leukemia/training_data/fold_2/hem/UID_h3...</td>\n",
              "      <td>NaN</td>\n",
              "    </tr>\n",
              "    <tr>\n",
              "      <th>10658</th>\n",
              "      <td>C-NMC_Leukemia/training_data/fold_2/hem/UID_h3...</td>\n",
              "      <td>NaN</td>\n",
              "    </tr>\n",
              "    <tr>\n",
              "      <th>10659</th>\n",
              "      <td>C-NMC_Leukemia/training_data/fold_2/hem/UID_h3...</td>\n",
              "      <td>NaN</td>\n",
              "    </tr>\n",
              "    <tr>\n",
              "      <th>10660</th>\n",
              "      <td>C-NMC_Leukemia/training_data/fold_2/hem/UID_h3...</td>\n",
              "      <td>NaN</td>\n",
              "    </tr>\n",
              "  </tbody>\n",
              "</table>\n",
              "<p>10661 rows × 2 columns</p>\n",
              "</div>"
            ],
            "text/plain": [
              "                                                img_data  labels\n",
              "0      C-NMC_Leukemia/training_data/fold_0/all/UID_11...     NaN\n",
              "1      C-NMC_Leukemia/training_data/fold_0/all/UID_11...     NaN\n",
              "2      C-NMC_Leukemia/training_data/fold_0/all/UID_11...     NaN\n",
              "3      C-NMC_Leukemia/training_data/fold_0/all/UID_11...     NaN\n",
              "4      C-NMC_Leukemia/training_data/fold_0/all/UID_11...     NaN\n",
              "...                                                  ...     ...\n",
              "10656  C-NMC_Leukemia/training_data/fold_2/hem/UID_h3...     NaN\n",
              "10657  C-NMC_Leukemia/training_data/fold_2/hem/UID_h3...     NaN\n",
              "10658  C-NMC_Leukemia/training_data/fold_2/hem/UID_h3...     NaN\n",
              "10659  C-NMC_Leukemia/training_data/fold_2/hem/UID_h3...     NaN\n",
              "10660  C-NMC_Leukemia/training_data/fold_2/hem/UID_h3...     NaN\n",
              "\n",
              "[10661 rows x 2 columns]"
            ]
          },
          "execution_count": 7,
          "metadata": {},
          "output_type": "execute_result"
        }
      ],
      "source": [
        "data_train = {\"img_data\":img_data,\n",
        "        \"labels\":[np.nan for x in range(len(img_data))]}\n",
        "\n",
        "data_train_df = pd.DataFrame(data_train) \n",
        "data_train_df"
      ]
    },
    {
      "cell_type": "code",
      "execution_count": 8,
      "metadata": {
        "id": "KFJy2IBn7Fnz"
      },
      "outputs": [],
      "source": [
        "data_train_df.loc[0:7272, 'labels'] = 1 # ALL\n",
        "data_train_df.loc[7272:, 'labels'] = 0 # HEM"
      ]
    },
    {
      "cell_type": "code",
      "execution_count": 9,
      "metadata": {
        "colab": {
          "base_uri": "https://localhost:8080/"
        },
        "id": "R71PXI-lo_YG",
        "outputId": "22534dcc-4c53-48a9-fce6-f3753ed754ca"
      },
      "outputs": [
        {
          "data": {
            "text/plain": [
              "1.0    7272\n",
              "0.0    3389\n",
              "Name: labels, dtype: int64"
            ]
          },
          "execution_count": 9,
          "metadata": {},
          "output_type": "execute_result"
        }
      ],
      "source": [
        "data_train_df['labels'].value_counts()"
      ]
    },
    {
      "cell_type": "code",
      "execution_count": 10,
      "metadata": {
        "colab": {
          "base_uri": "https://localhost:8080/",
          "height": 206
        },
        "id": "rswgKX8z0Vpd",
        "outputId": "d9add6b3-e23d-4c8c-9769-61646857449c"
      },
      "outputs": [
        {
          "data": {
            "text/html": [
              "<div>\n",
              "<style scoped>\n",
              "    .dataframe tbody tr th:only-of-type {\n",
              "        vertical-align: middle;\n",
              "    }\n",
              "\n",
              "    .dataframe tbody tr th {\n",
              "        vertical-align: top;\n",
              "    }\n",
              "\n",
              "    .dataframe thead th {\n",
              "        text-align: right;\n",
              "    }\n",
              "</style>\n",
              "<table border=\"1\" class=\"dataframe\">\n",
              "  <thead>\n",
              "    <tr style=\"text-align: right;\">\n",
              "      <th></th>\n",
              "      <th>img_data</th>\n",
              "      <th>labels</th>\n",
              "    </tr>\n",
              "  </thead>\n",
              "  <tbody>\n",
              "    <tr>\n",
              "      <th>0</th>\n",
              "      <td>C-NMC_Leukemia/training_data/fold_0/all/UID_11...</td>\n",
              "      <td>1.0</td>\n",
              "    </tr>\n",
              "    <tr>\n",
              "      <th>1</th>\n",
              "      <td>C-NMC_Leukemia/training_data/fold_0/all/UID_11...</td>\n",
              "      <td>1.0</td>\n",
              "    </tr>\n",
              "    <tr>\n",
              "      <th>2</th>\n",
              "      <td>C-NMC_Leukemia/training_data/fold_0/all/UID_11...</td>\n",
              "      <td>1.0</td>\n",
              "    </tr>\n",
              "    <tr>\n",
              "      <th>3</th>\n",
              "      <td>C-NMC_Leukemia/training_data/fold_0/all/UID_11...</td>\n",
              "      <td>1.0</td>\n",
              "    </tr>\n",
              "    <tr>\n",
              "      <th>4</th>\n",
              "      <td>C-NMC_Leukemia/training_data/fold_0/all/UID_11...</td>\n",
              "      <td>1.0</td>\n",
              "    </tr>\n",
              "  </tbody>\n",
              "</table>\n",
              "</div>"
            ],
            "text/plain": [
              "                                            img_data  labels\n",
              "0  C-NMC_Leukemia/training_data/fold_0/all/UID_11...     1.0\n",
              "1  C-NMC_Leukemia/training_data/fold_0/all/UID_11...     1.0\n",
              "2  C-NMC_Leukemia/training_data/fold_0/all/UID_11...     1.0\n",
              "3  C-NMC_Leukemia/training_data/fold_0/all/UID_11...     1.0\n",
              "4  C-NMC_Leukemia/training_data/fold_0/all/UID_11...     1.0"
            ]
          },
          "execution_count": 10,
          "metadata": {},
          "output_type": "execute_result"
        }
      ],
      "source": [
        "data_train_df.head()"
      ]
    },
    {
      "cell_type": "code",
      "execution_count": 11,
      "metadata": {
        "id": "HLQqxVzw0Vpd"
      },
      "outputs": [],
      "source": [
        "data_train_df = data_train_df.sample(frac=1).reset_index(drop=True)"
      ]
    },
    {
      "cell_type": "code",
      "execution_count": 12,
      "metadata": {
        "colab": {
          "base_uri": "https://localhost:8080/",
          "height": 206
        },
        "id": "PHa68N7f0Vpd",
        "outputId": "ec9650ee-3dd9-47d3-ce0e-a2595a41f99b"
      },
      "outputs": [
        {
          "data": {
            "text/html": [
              "<div>\n",
              "<style scoped>\n",
              "    .dataframe tbody tr th:only-of-type {\n",
              "        vertical-align: middle;\n",
              "    }\n",
              "\n",
              "    .dataframe tbody tr th {\n",
              "        vertical-align: top;\n",
              "    }\n",
              "\n",
              "    .dataframe thead th {\n",
              "        text-align: right;\n",
              "    }\n",
              "</style>\n",
              "<table border=\"1\" class=\"dataframe\">\n",
              "  <thead>\n",
              "    <tr style=\"text-align: right;\">\n",
              "      <th></th>\n",
              "      <th>img_data</th>\n",
              "      <th>labels</th>\n",
              "    </tr>\n",
              "  </thead>\n",
              "  <tbody>\n",
              "    <tr>\n",
              "      <th>0</th>\n",
              "      <td>C-NMC_Leukemia/training_data/fold_0/hem/UID_H1...</td>\n",
              "      <td>0.0</td>\n",
              "    </tr>\n",
              "    <tr>\n",
              "      <th>1</th>\n",
              "      <td>C-NMC_Leukemia/training_data/fold_1/all/UID_44...</td>\n",
              "      <td>1.0</td>\n",
              "    </tr>\n",
              "    <tr>\n",
              "      <th>2</th>\n",
              "      <td>C-NMC_Leukemia/training_data/fold_2/all/UID_47...</td>\n",
              "      <td>1.0</td>\n",
              "    </tr>\n",
              "    <tr>\n",
              "      <th>3</th>\n",
              "      <td>C-NMC_Leukemia/training_data/fold_2/all/UID_47...</td>\n",
              "      <td>1.0</td>\n",
              "    </tr>\n",
              "    <tr>\n",
              "      <th>4</th>\n",
              "      <td>C-NMC_Leukemia/training_data/fold_2/all/UID_68...</td>\n",
              "      <td>1.0</td>\n",
              "    </tr>\n",
              "  </tbody>\n",
              "</table>\n",
              "</div>"
            ],
            "text/plain": [
              "                                            img_data  labels\n",
              "0  C-NMC_Leukemia/training_data/fold_0/hem/UID_H1...     0.0\n",
              "1  C-NMC_Leukemia/training_data/fold_1/all/UID_44...     1.0\n",
              "2  C-NMC_Leukemia/training_data/fold_2/all/UID_47...     1.0\n",
              "3  C-NMC_Leukemia/training_data/fold_2/all/UID_47...     1.0\n",
              "4  C-NMC_Leukemia/training_data/fold_2/all/UID_68...     1.0"
            ]
          },
          "execution_count": 12,
          "metadata": {},
          "output_type": "execute_result"
        }
      ],
      "source": [
        "data_train_df.head()"
      ]
    },
    {
      "cell_type": "code",
      "execution_count": 13,
      "metadata": {
        "id": "3ru2x1v34jCd"
      },
      "outputs": [],
      "source": [
        "z = data_train_df.iloc[:7272, :]"
      ]
    },
    {
      "cell_type": "code",
      "execution_count": 14,
      "metadata": {
        "colab": {
          "base_uri": "https://localhost:8080/"
        },
        "id": "Jv0Otkx65PYd",
        "outputId": "b5cea739-c7c3-46cc-e6ba-77f20ca2155d"
      },
      "outputs": [
        {
          "data": {
            "text/plain": [
              "1.0    4980\n",
              "0.0    2292\n",
              "Name: labels, dtype: int64"
            ]
          },
          "execution_count": 14,
          "metadata": {},
          "output_type": "execute_result"
        }
      ],
      "source": [
        "z['labels'].value_counts()"
      ]
    },
    {
      "cell_type": "code",
      "execution_count": 17,
      "metadata": {
        "colab": {
          "base_uri": "https://localhost:8080/",
          "height": 206
        },
        "id": "ytdqDCju0Vpd",
        "outputId": "58bddbdf-4f63-4728-c8cd-eb351d1329ba"
      },
      "outputs": [
        {
          "data": {
            "text/html": [
              "<div>\n",
              "<style scoped>\n",
              "    .dataframe tbody tr th:only-of-type {\n",
              "        vertical-align: middle;\n",
              "    }\n",
              "\n",
              "    .dataframe tbody tr th {\n",
              "        vertical-align: top;\n",
              "    }\n",
              "\n",
              "    .dataframe thead th {\n",
              "        text-align: right;\n",
              "    }\n",
              "</style>\n",
              "<table border=\"1\" class=\"dataframe\">\n",
              "  <thead>\n",
              "    <tr style=\"text-align: right;\">\n",
              "      <th></th>\n",
              "      <th>img_data</th>\n",
              "      <th>labels</th>\n",
              "    </tr>\n",
              "  </thead>\n",
              "  <tbody>\n",
              "    <tr>\n",
              "      <th>0</th>\n",
              "      <td>C-NMC_Leukemia/training_data/fold_0/all/UID_52...</td>\n",
              "      <td>1.0</td>\n",
              "    </tr>\n",
              "    <tr>\n",
              "      <th>1</th>\n",
              "      <td>C-NMC_Leukemia/training_data/fold_0/hem/UID_H1...</td>\n",
              "      <td>0.0</td>\n",
              "    </tr>\n",
              "    <tr>\n",
              "      <th>2</th>\n",
              "      <td>C-NMC_Leukemia/training_data/fold_2/hem/UID_H2...</td>\n",
              "      <td>0.0</td>\n",
              "    </tr>\n",
              "    <tr>\n",
              "      <th>3</th>\n",
              "      <td>C-NMC_Leukemia/training_data/fold_1/all/UID_44...</td>\n",
              "      <td>1.0</td>\n",
              "    </tr>\n",
              "    <tr>\n",
              "      <th>4</th>\n",
              "      <td>C-NMC_Leukemia/training_data/fold_1/all/UID_38...</td>\n",
              "      <td>1.0</td>\n",
              "    </tr>\n",
              "  </tbody>\n",
              "</table>\n",
              "</div>"
            ],
            "text/plain": [
              "                                            img_data  labels\n",
              "0  C-NMC_Leukemia/training_data/fold_0/all/UID_52...     1.0\n",
              "1  C-NMC_Leukemia/training_data/fold_0/hem/UID_H1...     0.0\n",
              "2  C-NMC_Leukemia/training_data/fold_2/hem/UID_H2...     0.0\n",
              "3  C-NMC_Leukemia/training_data/fold_1/all/UID_44...     1.0\n",
              "4  C-NMC_Leukemia/training_data/fold_1/all/UID_38...     1.0"
            ]
          },
          "execution_count": 17,
          "metadata": {},
          "output_type": "execute_result"
        }
      ],
      "source": [
        "sample_df = data_train_df.iloc[1000:2000, :]\n",
        "sample_df.reset_index(inplace=True, drop=True)\n",
        "sample_df.head()"
      ]
    },
    {
      "cell_type": "code",
      "execution_count": 18,
      "metadata": {
        "colab": {
          "base_uri": "https://localhost:8080/"
        },
        "id": "xng9WQC04aba",
        "outputId": "5c4777a3-21be-4893-f7d7-8bf191298c39"
      },
      "outputs": [
        {
          "data": {
            "text/plain": [
              "1.0    687\n",
              "0.0    313\n",
              "Name: labels, dtype: int64"
            ]
          },
          "execution_count": 18,
          "metadata": {},
          "output_type": "execute_result"
        }
      ],
      "source": [
        "sample_df['labels'].value_counts()"
      ]
    },
    {
      "cell_type": "code",
      "execution_count": 19,
      "metadata": {
        "id": "Sf6uHe8u3wAe"
      },
      "outputs": [],
      "source": [
        "from tqdm import tqdm"
      ]
    },
    {
      "cell_type": "code",
      "execution_count": null,
      "metadata": {
        "colab": {
          "base_uri": "https://localhost:8080/"
        },
        "id": "H3h-a6Lz32gh",
        "outputId": "ae0f288f-4140-4e15-e8d4-b54aa45889cf"
      },
      "outputs": [],
      "source": [
        "sample_img_list = []\n",
        "    \n",
        "for i in tqdm(range(len(sample_df))):\n",
        "    \n",
        "    blob = bucket.blob(sample_df['img_data'][i])\n",
        "    image_bytes = blob.download_as_bytes()\n",
        "    nparr = np.frombuffer(image_bytes, np.uint8)\n",
        "    image = cv.imdecode(nparr, cv.IMREAD_COLOR)\n",
        "    sample_img_list.append(image)  "
      ]
    },
    {
      "cell_type": "code",
      "execution_count": null,
      "metadata": {
        "colab": {
          "base_uri": "https://localhost:8080/",
          "height": 269
        },
        "id": "NkzXFbxm0Vpe",
        "outputId": "2e17c7dd-2d12-4341-a4c7-92325e22ce91"
      },
      "outputs": [
        {
          "data": {
            "image/png": "[encoded data removed]",
            "text/plain": [
              "<Figure size 432x288 with 1 Axes>"
            ]
          },
          "metadata": {
            "needs_background": "light"
          },
          "output_type": "display_data"
        }
      ],
      "source": [
        "plt.imshow(sample_img_list[99])\n",
        "plt.show()"
      ]
    },
    {
      "cell_type": "code",
      "execution_count": null,
      "metadata": {
        "id": "0tYKlirz0Vpe"
      },
      "outputs": [],
      "source": [
        "X = np.array(sample_img_list)\n",
        "y = np.array(sample_df['labels'])"
      ]
    },
    {
      "cell_type": "code",
      "execution_count": null,
      "metadata": {
        "colab": {
          "base_uri": "https://localhost:8080/"
        },
        "id": "gFPm4z280Vpe",
        "outputId": "f521aa5c-b6b8-4fda-c587-ab9a91d6c88f"
      },
      "outputs": [
        {
          "data": {
            "text/plain": [
              "(1000, 450, 450, 3)"
            ]
          },
          "execution_count": 43,
          "metadata": {},
          "output_type": "execute_result"
        }
      ],
      "source": [
        "X.shape"
      ]
    },
    {
      "cell_type": "code",
      "execution_count": null,
      "metadata": {
        "id": "1WOVb-2D0Vpe"
      },
      "outputs": [],
      "source": [
        "from sklearn.model_selection import train_test_split\n",
        "\n",
        "X_train, X_val, y_train, y_val = train_test_split(X, y, test_size=0.2, random_state=42)"
      ]
    },
    {
      "cell_type": "code",
      "execution_count": null,
      "metadata": {
        "id": "TXyd2STw0Vpe"
      },
      "outputs": [],
      "source": [
        "y_df = pd.DataFrame(y_val)"
      ]
    },
    {
      "cell_type": "code",
      "execution_count": null,
      "metadata": {
        "colab": {
          "base_uri": "https://localhost:8080/"
        },
        "id": "C8scZika0Vpf",
        "outputId": "eca5c278-5189-4425-f28d-57c4f8acb71f"
      },
      "outputs": [
        {
          "data": {
            "text/plain": [
              "1.0    129\n",
              "0.0     71\n",
              "dtype: int64"
            ]
          },
          "execution_count": 50,
          "metadata": {},
          "output_type": "execute_result"
        }
      ],
      "source": [
        "y_df.value_counts()"
      ]
    },
    {
      "cell_type": "code",
      "execution_count": null,
      "metadata": {
        "colab": {
          "base_uri": "https://localhost:8080/"
        },
        "id": "h3Ronl7CRIR2",
        "outputId": "f135f068-d7e6-4fe4-a0b3-368b37133c2e"
      },
      "outputs": [
        {
          "name": "stdout",
          "output_type": "stream",
          "text": [
            "(800, 450, 450, 3)\n",
            "(800,)\n",
            "(200, 450, 450, 3)\n",
            "(200,)\n"
          ]
        }
      ],
      "source": [
        "print(X_train.shape)\n",
        "print(y_train.shape)\n",
        "print(X_val.shape)\n",
        "print(y_val.shape)"
      ]
    },
    {
      "cell_type": "code",
      "execution_count": null,
      "metadata": {
        "colab": {
          "base_uri": "https://localhost:8080/",
          "height": 204
        },
        "id": "2Tsl0EdmReir",
        "outputId": "a1ccb63e-f275-40f1-b05b-ec33ea128f62"
      },
      "outputs": [
        {
          "data": {
            "image/png": "[encoded data removed]",
            "text/plain": [
              "<Figure size 432x288 with 2 Axes>"
            ]
          },
          "metadata": {
            "needs_background": "light"
          },
          "output_type": "display_data"
        }
      ],
      "source": [
        "plt.subplot(1, 2, 1)\n",
        "plt.imshow(X_train[9]);\n",
        "plt.subplot(1, 2, 2)\n",
        "plt.imshow(X_val[8]);\n"
      ]
    },
    {
      "cell_type": "code",
      "execution_count": null,
      "metadata": {
        "id": "Faw_iTxdXouT"
      },
      "outputs": [],
      "source": [
        "from tensorflow.keras.layers.experimental.preprocessing import Rescaling\n",
        "from tensorflow.keras import models, layers"
      ]
    },
    {
      "cell_type": "code",
      "execution_count": null,
      "metadata": {
        "id": "okiY74GIXsga"
      },
      "outputs": [],
      "source": [
        "def load_base_model():\n",
        "\n",
        "  model = models.Sequential()\n",
        "\n",
        "  model.add(Rescaling(1./450, input_shape=(450,450,3)))\n",
        "\n",
        "  model.add(layers.Conv2D(8, (3, 3), activation='relu', padding='same'))\n",
        "  model.add(layers.MaxPool2D(pool_size=(2,2)))\n",
        "  model.add(layers.Dropout(0.1))\n",
        "\n",
        "  model.add(layers.Conv2D(16, (2, 2), activation='relu', padding='same'))\n",
        "  model.add(layers.MaxPool2D(pool_size=(2,2)))\n",
        "  model.add(layers.Dropout(0.2))\n",
        "\n",
        "  model.add(layers.Flatten())\n",
        "\n",
        "  model.add(layers.Dense(20))\n",
        "\n",
        "  model.add(layers.Dense(1, activation='sigmoid'))\n",
        "\n",
        "  model.compile(loss='binary_crossentropy', optimizer='adam', metrics=['accuracy'])\n",
        "\n",
        "  return model"
      ]
    },
    {
      "cell_type": "code",
      "execution_count": null,
      "metadata": {
        "id": "LFaLLFx3X3IU"
      },
      "outputs": [],
      "source": [
        "base_model_s = load_base_model()"
      ]
    },
    {
      "cell_type": "code",
      "execution_count": null,
      "metadata": {
        "colab": {
          "base_uri": "https://localhost:8080/"
        },
        "id": "Q_R_T3KShjS4",
        "outputId": "caec3c50-4703-4a15-bf17-68cb3bb43d63"
      },
      "outputs": [
        {
          "name": "stdout",
          "output_type": "stream",
          "text": [
            "Model: \"sequential_2\"\n",
            "_________________________________________________________________\n",
            " Layer (type)                Output Shape              Param #   \n",
            "=================================================================\n",
            " rescaling_2 (Rescaling)     (None, 450, 450, 3)       0         \n",
            "                                                                 \n",
            " conv2d_4 (Conv2D)           (None, 450, 450, 8)       224       \n",
            "                                                                 \n",
            " max_pooling2d_4 (MaxPooling  (None, 225, 225, 8)      0         \n",
            " 2D)                                                             \n",
            "                                                                 \n",
            " dropout_3 (Dropout)         (None, 225, 225, 8)       0         \n",
            "                                                                 \n",
            " flatten_2 (Flatten)         (None, 405000)            0         \n",
            "                                                                 \n",
            " dense_4 (Dense)             (None, 10)                4050010   \n",
            "                                                                 \n",
            " dense_5 (Dense)             (None, 1)                 11        \n",
            "                                                                 \n",
            "=================================================================\n",
            "Total params: 4,050,245\n",
            "Trainable params: 4,050,245\n",
            "Non-trainable params: 0\n",
            "_________________________________________________________________\n"
          ]
        }
      ],
      "source": [
        "base_model_s.summary()"
      ]
    },
    {
      "cell_type": "code",
      "execution_count": null,
      "metadata": {
        "id": "FXs2NVRAYZ-y"
      },
      "outputs": [],
      "source": [
        "from tensorflow.keras.callbacks import EarlyStopping"
      ]
    },
    {
      "cell_type": "code",
      "execution_count": null,
      "metadata": {
        "id": "nkI2PquEYc5T"
      },
      "outputs": [],
      "source": [
        "es_base = EarlyStopping(monitor = 'val_accuracy', \n",
        "                   mode = 'max', \n",
        "                   patience = 20, \n",
        "                   verbose = 1, \n",
        "                   restore_best_weights = True)"
      ]
    },
    {
      "cell_type": "code",
      "execution_count": null,
      "metadata": {
        "colab": {
          "base_uri": "https://localhost:8080/"
        },
        "id": "TrBrLcX2YgtB",
        "outputId": "ac4e4aa0-551a-47ce-f8db-7c8a73ebbbc2"
      },
      "outputs": [],
      "source": [
        "base_history = base_model_s.fit(X_train, y_train, validation_data=(X_val, y_val), \n",
        "                              batch_size=64, callbacks=[es_base], epochs=25)\n"
      ]
    },
    {
      "cell_type": "code",
      "execution_count": null,
      "metadata": {
        "id": "K1ffIWnZAz9N"
      },
      "outputs": [],
      "source": [
        "from google.colab import auth\n",
        "auth.authenticate_user()\n"
      ]
    },
    {
      "cell_type": "code",
      "execution_count": null,
      "metadata": {
        "colab": {
          "base_uri": "https://localhost:8080/"
        },
        "id": "a4ZfuV03_NiS",
        "outputId": "8512cf24-ea75-4fda-ab2d-3e48c63f68dc"
      },
      "outputs": [
        {
          "name": "stderr",
          "output_type": "stream",
          "text": [
            "WARNING:absl:Found untraced functions such as _jit_compiled_convolution_op while saving (showing 1 of 1). These functions will not be directly callable after loading.\n"
          ]
        }
      ],
      "source": [
        "save_model_path = '/content/carolingio/saved_models/ddd/cnn_base_model_simple'\n",
        "load_model_path = '/content/carolingio/saved_models/ddd/cnn_base_model_simple/saved_model.pb'\n",
        "keras.models.save_model(base_model_s, save_model_path)\n",
        "model_filename = 'cnn_base_model_simple'\n",
        "client = storage.Client()\n",
        "bucket = client.bucket('leukemic-1')\n",
        "blob = bucket.blob(f\"models/{model_filename}\")\n",
        "blob.upload_from_filename(load_model_path)"
      ]
    },
    {
      "cell_type": "code",
      "execution_count": null,
      "metadata": {
        "id": "UW4xnyrLZDc8"
      },
      "outputs": [],
      "source": [
        "base_model.evaluate(X_test, y_test)"
      ]
    },
    {
      "cell_type": "code",
      "execution_count": null,
      "metadata": {
        "id": "z5HwT3TiZWKL"
      },
      "outputs": [],
      "source": [
        "score = base_model.evaluate(X_test, y_test)[1]"
      ]
    },
    {
      "cell_type": "code",
      "execution_count": null,
      "metadata": {
        "id": "KAKanvpEZQ4F"
      },
      "outputs": [],
      "source": [
        "print(f\"The accuracy of a baseline model is: {score}\")"
      ]
    },
    {
      "cell_type": "code",
      "execution_count": null,
      "metadata": {
        "id": "QlrRAPLo3Diq"
      },
      "outputs": [],
      "source": [
        "from tensorflow.keras.applications.vgg16 import VGG16\n",
        "\n",
        "def load_model():\n",
        "    \n",
        "    model = VGG16(weights=\"imagenet\", include_top=False, input_shape=X_train[0].shape)\n",
        "    \n",
        "    return model"
      ]
    },
    {
      "cell_type": "code",
      "execution_count": null,
      "metadata": {
        "id": "6jwB8uiB3Zah"
      },
      "outputs": [],
      "source": [
        "model_VGG16 = load_model()"
      ]
    },
    {
      "cell_type": "code",
      "execution_count": null,
      "metadata": {
        "id": "PPeKa8tc3ox6"
      },
      "outputs": [],
      "source": [
        "model_VGG16.summary()"
      ]
    },
    {
      "cell_type": "code",
      "execution_count": null,
      "metadata": {
        "id": "CqjDj2lxSc2o"
      },
      "outputs": [],
      "source": [
        "def set_nontrainable_layers(model):\n",
        "    \n",
        "    model.trainable=False\n",
        "    \n",
        "    return model"
      ]
    },
    {
      "cell_type": "code",
      "execution_count": null,
      "metadata": {
        "id": "wju60GnbSenM"
      },
      "outputs": [],
      "source": [
        "model_VGG16 = set_nontrainable_layers(model_VGG16)"
      ]
    },
    {
      "cell_type": "code",
      "execution_count": null,
      "metadata": {
        "id": "38dDXKgGSn10"
      },
      "outputs": [],
      "source": [
        "model_VGG16.summary()"
      ]
    },
    {
      "cell_type": "code",
      "execution_count": null,
      "metadata": {
        "id": "3on390x2SxNv"
      },
      "outputs": [],
      "source": [
        "from tensorflow.keras import layers, models\n",
        "\n",
        "def add_last_layers(model):\n",
        "    '''Take a pre-trained model, set its parameters as non-trainable, and add additional trainable layers on top'''\n",
        "    \n",
        "    base_model = load_model()\n",
        "\n",
        "    base_model = set_nontrainable_layers(base_model)\n",
        "\n",
        "    flattening_layer = layers.Flatten()\n",
        "    dense_layer = layers.Dense(500, activation='relu')\n",
        "    prediction_layer = layers.Dense(2, activation='softmax')\n",
        "\n",
        "    model = models.Sequential([\n",
        "        base_model,\n",
        "        flattening_layer,\n",
        "        dense_layer,\n",
        "        prediction_layer\n",
        "        ])\n",
        "\n",
        "\n",
        "    return model"
      ]
    },
    {
      "cell_type": "code",
      "execution_count": null,
      "metadata": {
        "id": "L4n8H9rOTUt9"
      },
      "outputs": [],
      "source": [
        "model_VGG16_complete = add_last_layers(model_VGG16)"
      ]
    },
    {
      "cell_type": "code",
      "execution_count": null,
      "metadata": {
        "id": "Uv_kx4NqTZ0n"
      },
      "outputs": [],
      "source": [
        "model_VGG16_complete.summary()"
      ]
    },
    {
      "cell_type": "code",
      "execution_count": null,
      "metadata": {
        "id": "_TIddpEfThd6"
      },
      "outputs": [],
      "source": [
        "from tensorflow.keras import optimizers\n",
        "\n",
        "def build_model():\n",
        "    \n",
        "    model = model_VGG16_complete\n",
        "\n",
        "    opt = optimizers.Adam(learning_rate=1e-4)\n",
        "\n",
        "    model.compile(loss='binary_crossentropy', optimizer= opt, metrics='accuracy')\n",
        "\n",
        "    return model"
      ]
    },
    {
      "cell_type": "code",
      "execution_count": null,
      "metadata": {
        "id": "C3KMYNKVT0t9"
      },
      "outputs": [],
      "source": [
        "from tensorflow.keras.applications.vgg16 import preprocess_input"
      ]
    },
    {
      "cell_type": "code",
      "execution_count": null,
      "metadata": {
        "id": "w9ajWBVPT2am"
      },
      "outputs": [],
      "source": [
        "X_train = preprocess_input(X_train) \n",
        "X_val = preprocess_input(X_val)\n",
        "X_test = preprocess_input(X_test)"
      ]
    },
    {
      "cell_type": "code",
      "execution_count": null,
      "metadata": {
        "id": "eCf9dsrnT8sF"
      },
      "outputs": [],
      "source": [
        "model_ready = build_model()"
      ]
    },
    {
      "cell_type": "code",
      "execution_count": null,
      "metadata": {
        "id": "XuSIyITFUKrs"
      },
      "outputs": [],
      "source": [
        "from tensorflow.keras.callbacks import EarlyStopping\n",
        "es = EarlyStopping(patience=20)"
      ]
    },
    {
      "cell_type": "code",
      "execution_count": null,
      "metadata": {
        "id": "Nl1NDYuvT-2g"
      },
      "outputs": [],
      "source": [
        "history = model_ready.fit(X_train, y_train, validation_data=(X_val, y_val),\n",
        "                          callbacks=[es], batch_size=64, epochs=100)"
      ]
    },
    {
      "cell_type": "code",
      "execution_count": null,
      "metadata": {
        "id": "nrb1oPuvUU0q"
      },
      "outputs": [],
      "source": [
        "y_train.shape"
      ]
    },
    {
      "cell_type": "code",
      "execution_count": null,
      "metadata": {
        "id": "fT_r10XAVrI9"
      },
      "outputs": [],
      "source": [
        "def plot_history(history, title='', axs=None, exp_name=\"\"):\n",
        "    if axs is not None:\n",
        "        ax1, ax2 = axs\n",
        "    else:\n",
        "        f, (ax1, ax2) = plt.subplots(1, 2, figsize=(12, 4))\n",
        "    \n",
        "    if len(exp_name) > 0 and exp_name[0] != '_':\n",
        "        exp_name = '_' + exp_name\n",
        "    ax1.plot(history.history['loss'], label='train' + exp_name)\n",
        "    ax1.plot(history.history['val_loss'], label='val' + exp_name)\n",
        "    #ax1.set_ylim(0., 2.2)\n",
        "    ax1.set_title('loss')\n",
        "    ax1.legend()\n",
        "\n",
        "    ax2.plot(history.history['accuracy'], label='train accuracy'  + exp_name)\n",
        "    ax2.plot(history.history['val_accuracy'], label='val accuracy'  + exp_name)\n",
        "    #ax2.set_ylim(0.25, 1.)\n",
        "    ax2.set_title('Accuracy')\n",
        "    ax2.legend()\n",
        "    return (ax1, ax2)"
      ]
    },
    {
      "cell_type": "code",
      "execution_count": null,
      "metadata": {
        "id": "r0SmzHSsVtRg"
      },
      "outputs": [],
      "source": [
        "import matplotlib.pyplot as plot\n",
        "plot_history(history)"
      ]
    },
    {
      "cell_type": "code",
      "execution_count": null,
      "metadata": {
        "id": "dd6TF-eXV86h"
      },
      "outputs": [],
      "source": [
        "score = model_ready.evaluate(X_test, y_test)[1]"
      ]
    },
    {
      "cell_type": "code",
      "execution_count": null,
      "metadata": {
        "id": "z0nIuTWQWCSJ"
      },
      "outputs": [],
      "source": [
        "print(f\"The model accuracy on the test data is: {score}\")"
      ]
    },
    {
      "cell_type": "code",
      "execution_count": null,
      "metadata": {
        "id": "NllOoPQ50Vpj"
      },
      "outputs": [],
      "source": [
        "def load_VGG16_model():\n",
        "\n",
        "    VGG_model = VGG16(weights=\"imagenet\", include_top=False, input_shape=X_train[0].shape)\n",
        "    VGG_model.trainable=False\n",
        "\n",
        "    flattening_layer = layers.Flatten()\n",
        "    dense_layer = layers.Dense(500, activation='relu')\n",
        "    prediction_layer = layers.Dense(1, activation='sigmoid')\n",
        "\n",
        "    model = models.Sequential([\n",
        "        VGG_model,\n",
        "        flattening_layer,\n",
        "        dense_layer,\n",
        "        prediction_layer\n",
        "        ])\n",
        "\n",
        "\n",
        "    opt = optimizers.Adam(learning_rate=1e-4)\n",
        "\n",
        "    model.compile(loss='binary_crossentropy', optimizer= opt, metrics='accuracy')\n",
        "\n",
        "    return model"
      ]
    }
  ],
  "metadata": {
    "accelerator": "GPU",
    "colab": {
      "provenance": []
    },
    "gpuClass": "standard",
    "kernelspec": {
      "display_name": "Python 3 (ipykernel)",
      "language": "python",
      "name": "python3"
    },
    "language_info": {
      "codemirror_mode": {
        "name": "ipython",
        "version": 3
      },
      "file_extension": ".py",
      "mimetype": "text/x-python",
      "name": "python",
      "nbconvert_exporter": "python",
      "pygments_lexer": "ipython3",
      "version": "3.10.6"
    },
    "toc": {
      "base_numbering": 1,
      "nav_menu": {},
      "number_sections": true,
      "sideBar": true,
      "skip_h1_title": false,
      "title_cell": "Table of Contents",
      "title_sidebar": "Contents",
      "toc_cell": false,
      "toc_position": {},
      "toc_section_display": true,
      "toc_window_display": false
    },
    "vscode": {
      "interpreter": {
        "hash": "f1e08a2b351939f9bb1581236c8fdd8f9948527ad903e2dc45bf6e92e6ab8613"
      }
    }
  },
  "nbformat": 4,
  "nbformat_minor": 0
}
