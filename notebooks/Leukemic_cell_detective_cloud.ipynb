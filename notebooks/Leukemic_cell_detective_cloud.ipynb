{
  "cells": [
    {
      "cell_type": "markdown",
      "metadata": {
        "id": "jHCcCge-aq4b"
      },
      "source": [
        "## Dataset from kaggle\n",
        "https://www.kaggle.com/datasets/andrewmvd/leukemia-classification"
      ]
    },
    {
      "cell_type": "markdown",
      "metadata": {
        "id": "GSHMTPuklFp2"
      },
      "source": [
        "Original dataset\n",
        "https://wiki.cancerimagingarchive.net/pages/viewpage.action?pageId=52758223"
      ]
    },
    {
      "cell_type": "markdown",
      "metadata": {
        "id": "x2NlnnNHa_az"
      },
      "source": [
        "Gupta, A., & Gupta, R. (2019). ALL Challenge dataset of ISBI 2019 [Data set]. The Cancer Imaging Archive. https://doi.org/10.7937/tcia.2019.dc64i46r"
      ]
    },
    {
      "cell_type": "code",
      "execution_count": null,
      "metadata": {
        "id": "ZnsQZ5zAx_p9"
      },
      "outputs": [
        {
          "name": "stderr",
          "output_type": "stream",
          "text": [
            "2023-03-23 09:04:45.731915: I tensorflow/core/platform/cpu_feature_guard.cc:193] This TensorFlow binary is optimized with oneAPI Deep Neural Network Library (oneDNN) to use the following CPU instructions in performance-critical operations:  AVX2 FMA\n",
            "To enable them in other operations, rebuild TensorFlow with the appropriate compiler flags.\n"
          ]
        }
      ],
      "source": [
        "# import needed libraries\n",
        "\n",
        "import numpy as np\n",
        "import pandas as pd\n",
        "import os\n",
        "import cv2 as cv\n",
        "import matplotlib.pyplot as plt\n",
        "import tensorflow\n",
        "from tensorflow import keras\n",
        "from leukemic_det.params import *\n",
        "from google.cloud import storage\n",
        "from tqdm import tqdm\n"
      ]
    },
    {
      "cell_type": "markdown",
      "metadata": {
        "id": "XEEQBPlO0VpZ"
      },
      "source": [
        "### 1) Load Data\n"
      ]
    },
    {
      "cell_type": "code",
      "execution_count": 3,
      "metadata": {
        "id": "7_7P603_0Vpa"
      },
      "outputs": [],
      "source": [
        "# create a client to the GCS bucket\n",
        "\n",
        "client = storage.Client()\n",
        "bucket = client.bucket(BUCKET_NAME)\n"
      ]
    },
    {
      "cell_type": "code",
      "execution_count": 4,
      "metadata": {
        "id": "AZoED3Wu0Vpa"
      },
      "outputs": [],
      "source": [
        "# setting files paths\n",
        "\n",
        "blob_p = \"C-NMC_Leukemia/training_data/fold_\"\n",
        "\n",
        "all_0 = bucket.blob(f\"{blob_p}0/all\")\n",
        "all_1 = bucket.blob(f\"{blob_p}1/all\")\n",
        "all_2 = bucket.blob(f\"{blob_p}2/all\")\n",
        "\n",
        "hem_0 = bucket.blob(f\"{blob_p}0/hem\")\n",
        "hem_1 = bucket.blob(f\"{blob_p}1/hem\")\n",
        "hem_2 = bucket.blob(f\"{blob_p}2/hem\")\n"
      ]
    },
    {
      "cell_type": "code",
      "execution_count": 5,
      "metadata": {
        "id": "1p78AoAv0Vpa"
      },
      "outputs": [],
      "source": [
        "def get_path_image(folder):\n",
        "    image_paths = []\n",
        "    for blob in bucket.list_blobs(prefix=folder.name):\n",
        "        image_path = blob.name\n",
        "        image_paths.append(image_path)\n",
        "    return image_paths\n"
      ]
    },
    {
      "cell_type": "code",
      "execution_count": 6,
      "metadata": {
        "colab": {
          "base_uri": "https://localhost:8080/"
        },
        "id": "9IoLT7vX0Vpb",
        "outputId": "8e4c7ea4-89ee-425f-ae37-05b4c9ac06dc"
      },
      "outputs": [
        {
          "name": "stdout",
          "output_type": "stream",
          "text": [
            "10661\n"
          ]
        }
      ],
      "source": [
        "# load training data paths\n",
        "\n",
        "img_data = []\n",
        "\n",
        "for i in [all_0,all_1,all_2,hem_0,hem_1,hem_2]:\n",
        "    paths = get_path_image(i)\n",
        "\n",
        "    img_data.extend(paths)\n",
        "\n",
        "print(len(img_data))\n"
      ]
    },
    {
      "cell_type": "code",
      "execution_count": 7,
      "metadata": {
        "colab": {
          "base_uri": "https://localhost:8080/",
          "height": 424
        },
        "id": "c2hImfR_6KLC",
        "outputId": "053be6e3-db81-4a79-fed1-4d31145b4bc9"
      },
      "outputs": [
        {
          "data": {
            "text/html": [
              "<div>\n",
              "<style scoped>\n",
              "    .dataframe tbody tr th:only-of-type {\n",
              "        vertical-align: middle;\n",
              "    }\n",
              "\n",
              "    .dataframe tbody tr th {\n",
              "        vertical-align: top;\n",
              "    }\n",
              "\n",
              "    .dataframe thead th {\n",
              "        text-align: right;\n",
              "    }\n",
              "</style>\n",
              "<table border=\"1\" class=\"dataframe\">\n",
              "  <thead>\n",
              "    <tr style=\"text-align: right;\">\n",
              "      <th></th>\n",
              "      <th>img_data</th>\n",
              "      <th>labels</th>\n",
              "    </tr>\n",
              "  </thead>\n",
              "  <tbody>\n",
              "    <tr>\n",
              "      <th>0</th>\n",
              "      <td>C-NMC_Leukemia/training_data/fold_0/all/UID_11...</td>\n",
              "      <td>NaN</td>\n",
              "    </tr>\n",
              "    <tr>\n",
              "      <th>1</th>\n",
              "      <td>C-NMC_Leukemia/training_data/fold_0/all/UID_11...</td>\n",
              "      <td>NaN</td>\n",
              "    </tr>\n",
              "    <tr>\n",
              "      <th>2</th>\n",
              "      <td>C-NMC_Leukemia/training_data/fold_0/all/UID_11...</td>\n",
              "      <td>NaN</td>\n",
              "    </tr>\n",
              "    <tr>\n",
              "      <th>3</th>\n",
              "      <td>C-NMC_Leukemia/training_data/fold_0/all/UID_11...</td>\n",
              "      <td>NaN</td>\n",
              "    </tr>\n",
              "    <tr>\n",
              "      <th>4</th>\n",
              "      <td>C-NMC_Leukemia/training_data/fold_0/all/UID_11...</td>\n",
              "      <td>NaN</td>\n",
              "    </tr>\n",
              "    <tr>\n",
              "      <th>...</th>\n",
              "      <td>...</td>\n",
              "      <td>...</td>\n",
              "    </tr>\n",
              "    <tr>\n",
              "      <th>10656</th>\n",
              "      <td>C-NMC_Leukemia/training_data/fold_2/hem/UID_h3...</td>\n",
              "      <td>NaN</td>\n",
              "    </tr>\n",
              "    <tr>\n",
              "      <th>10657</th>\n",
              "      <td>C-NMC_Leukemia/training_data/fold_2/hem/UID_h3...</td>\n",
              "      <td>NaN</td>\n",
              "    </tr>\n",
              "    <tr>\n",
              "      <th>10658</th>\n",
              "      <td>C-NMC_Leukemia/training_data/fold_2/hem/UID_h3...</td>\n",
              "      <td>NaN</td>\n",
              "    </tr>\n",
              "    <tr>\n",
              "      <th>10659</th>\n",
              "      <td>C-NMC_Leukemia/training_data/fold_2/hem/UID_h3...</td>\n",
              "      <td>NaN</td>\n",
              "    </tr>\n",
              "    <tr>\n",
              "      <th>10660</th>\n",
              "      <td>C-NMC_Leukemia/training_data/fold_2/hem/UID_h3...</td>\n",
              "      <td>NaN</td>\n",
              "    </tr>\n",
              "  </tbody>\n",
              "</table>\n",
              "<p>10661 rows × 2 columns</p>\n",
              "</div>"
            ],
            "text/plain": [
              "                                                img_data  labels\n",
              "0      C-NMC_Leukemia/training_data/fold_0/all/UID_11...     NaN\n",
              "1      C-NMC_Leukemia/training_data/fold_0/all/UID_11...     NaN\n",
              "2      C-NMC_Leukemia/training_data/fold_0/all/UID_11...     NaN\n",
              "3      C-NMC_Leukemia/training_data/fold_0/all/UID_11...     NaN\n",
              "4      C-NMC_Leukemia/training_data/fold_0/all/UID_11...     NaN\n",
              "...                                                  ...     ...\n",
              "10656  C-NMC_Leukemia/training_data/fold_2/hem/UID_h3...     NaN\n",
              "10657  C-NMC_Leukemia/training_data/fold_2/hem/UID_h3...     NaN\n",
              "10658  C-NMC_Leukemia/training_data/fold_2/hem/UID_h3...     NaN\n",
              "10659  C-NMC_Leukemia/training_data/fold_2/hem/UID_h3...     NaN\n",
              "10660  C-NMC_Leukemia/training_data/fold_2/hem/UID_h3...     NaN\n",
              "\n",
              "[10661 rows x 2 columns]"
            ]
          },
          "execution_count": 7,
          "metadata": {},
          "output_type": "execute_result"
        }
      ],
      "source": [
        "data_train = {\"img_data\":img_data,\n",
        "        \"labels\":[np.nan for x in range(len(img_data))]}\n",
        "\n",
        "data_train_df = pd.DataFrame(data_train)\n",
        "data_train_df\n"
      ]
    },
    {
      "cell_type": "code",
      "execution_count": 8,
      "metadata": {
        "id": "KFJy2IBn7Fnz"
      },
      "outputs": [],
      "source": [
        "data_train_df.loc[0:7272, 'labels'] = 1 # ALL\n",
        "data_train_df.loc[7272:, 'labels'] = 0 # HEM\n"
      ]
    },
    {
      "cell_type": "code",
      "execution_count": 9,
      "metadata": {
        "colab": {
          "base_uri": "https://localhost:8080/"
        },
        "id": "R71PXI-lo_YG",
        "outputId": "22534dcc-4c53-48a9-fce6-f3753ed754ca"
      },
      "outputs": [
        {
          "data": {
            "text/plain": [
              "1.0    7272\n",
              "0.0    3389\n",
              "Name: labels, dtype: int64"
            ]
          },
          "execution_count": 9,
          "metadata": {},
          "output_type": "execute_result"
        }
      ],
      "source": [
        "data_train_df['labels'].value_counts()\n"
      ]
    },
    {
      "cell_type": "code",
      "execution_count": 10,
      "metadata": {
        "colab": {
          "base_uri": "https://localhost:8080/",
          "height": 206
        },
        "id": "rswgKX8z0Vpd",
        "outputId": "d9add6b3-e23d-4c8c-9769-61646857449c"
      },
      "outputs": [
        {
          "data": {
            "text/html": [
              "<div>\n",
              "<style scoped>\n",
              "    .dataframe tbody tr th:only-of-type {\n",
              "        vertical-align: middle;\n",
              "    }\n",
              "\n",
              "    .dataframe tbody tr th {\n",
              "        vertical-align: top;\n",
              "    }\n",
              "\n",
              "    .dataframe thead th {\n",
              "        text-align: right;\n",
              "    }\n",
              "</style>\n",
              "<table border=\"1\" class=\"dataframe\">\n",
              "  <thead>\n",
              "    <tr style=\"text-align: right;\">\n",
              "      <th></th>\n",
              "      <th>img_data</th>\n",
              "      <th>labels</th>\n",
              "    </tr>\n",
              "  </thead>\n",
              "  <tbody>\n",
              "    <tr>\n",
              "      <th>0</th>\n",
              "      <td>C-NMC_Leukemia/training_data/fold_0/all/UID_11...</td>\n",
              "      <td>1.0</td>\n",
              "    </tr>\n",
              "    <tr>\n",
              "      <th>1</th>\n",
              "      <td>C-NMC_Leukemia/training_data/fold_0/all/UID_11...</td>\n",
              "      <td>1.0</td>\n",
              "    </tr>\n",
              "    <tr>\n",
              "      <th>2</th>\n",
              "      <td>C-NMC_Leukemia/training_data/fold_0/all/UID_11...</td>\n",
              "      <td>1.0</td>\n",
              "    </tr>\n",
              "    <tr>\n",
              "      <th>3</th>\n",
              "      <td>C-NMC_Leukemia/training_data/fold_0/all/UID_11...</td>\n",
              "      <td>1.0</td>\n",
              "    </tr>\n",
              "    <tr>\n",
              "      <th>4</th>\n",
              "      <td>C-NMC_Leukemia/training_data/fold_0/all/UID_11...</td>\n",
              "      <td>1.0</td>\n",
              "    </tr>\n",
              "  </tbody>\n",
              "</table>\n",
              "</div>"
            ],
            "text/plain": [
              "                                            img_data  labels\n",
              "0  C-NMC_Leukemia/training_data/fold_0/all/UID_11...     1.0\n",
              "1  C-NMC_Leukemia/training_data/fold_0/all/UID_11...     1.0\n",
              "2  C-NMC_Leukemia/training_data/fold_0/all/UID_11...     1.0\n",
              "3  C-NMC_Leukemia/training_data/fold_0/all/UID_11...     1.0\n",
              "4  C-NMC_Leukemia/training_data/fold_0/all/UID_11...     1.0"
            ]
          },
          "execution_count": 10,
          "metadata": {},
          "output_type": "execute_result"
        }
      ],
      "source": [
        "data_train_df.head()\n"
      ]
    },
    {
      "cell_type": "code",
      "execution_count": 11,
      "metadata": {
        "id": "HLQqxVzw0Vpd"
      },
      "outputs": [],
      "source": [
        "# shuffle the data\n",
        "\n",
        "data_train_df = data_train_df.sample(frac=1).reset_index(drop=True)\n"
      ]
    },
    {
      "cell_type": "code",
      "execution_count": 12,
      "metadata": {
        "colab": {
          "base_uri": "https://localhost:8080/",
          "height": 206
        },
        "id": "PHa68N7f0Vpd",
        "outputId": "ec9650ee-3dd9-47d3-ce0e-a2595a41f99b"
      },
      "outputs": [
        {
          "data": {
            "text/html": [
              "<div>\n",
              "<style scoped>\n",
              "    .dataframe tbody tr th:only-of-type {\n",
              "        vertical-align: middle;\n",
              "    }\n",
              "\n",
              "    .dataframe tbody tr th {\n",
              "        vertical-align: top;\n",
              "    }\n",
              "\n",
              "    .dataframe thead th {\n",
              "        text-align: right;\n",
              "    }\n",
              "</style>\n",
              "<table border=\"1\" class=\"dataframe\">\n",
              "  <thead>\n",
              "    <tr style=\"text-align: right;\">\n",
              "      <th></th>\n",
              "      <th>img_data</th>\n",
              "      <th>labels</th>\n",
              "    </tr>\n",
              "  </thead>\n",
              "  <tbody>\n",
              "    <tr>\n",
              "      <th>0</th>\n",
              "      <td>C-NMC_Leukemia/training_data/fold_1/hem/UID_H2...</td>\n",
              "      <td>0.0</td>\n",
              "    </tr>\n",
              "    <tr>\n",
              "      <th>1</th>\n",
              "      <td>C-NMC_Leukemia/training_data/fold_2/hem/UID_H1...</td>\n",
              "      <td>0.0</td>\n",
              "    </tr>\n",
              "    <tr>\n",
              "      <th>2</th>\n",
              "      <td>C-NMC_Leukemia/training_data/fold_2/all/UID_47...</td>\n",
              "      <td>1.0</td>\n",
              "    </tr>\n",
              "    <tr>\n",
              "      <th>3</th>\n",
              "      <td>C-NMC_Leukemia/training_data/fold_1/hem/UID_H1...</td>\n",
              "      <td>0.0</td>\n",
              "    </tr>\n",
              "    <tr>\n",
              "      <th>4</th>\n",
              "      <td>C-NMC_Leukemia/training_data/fold_0/all/UID_52...</td>\n",
              "      <td>1.0</td>\n",
              "    </tr>\n",
              "  </tbody>\n",
              "</table>\n",
              "</div>"
            ],
            "text/plain": [
              "                                            img_data  labels\n",
              "0  C-NMC_Leukemia/training_data/fold_1/hem/UID_H2...     0.0\n",
              "1  C-NMC_Leukemia/training_data/fold_2/hem/UID_H1...     0.0\n",
              "2  C-NMC_Leukemia/training_data/fold_2/all/UID_47...     1.0\n",
              "3  C-NMC_Leukemia/training_data/fold_1/hem/UID_H1...     0.0\n",
              "4  C-NMC_Leukemia/training_data/fold_0/all/UID_52...     1.0"
            ]
          },
          "execution_count": 12,
          "metadata": {},
          "output_type": "execute_result"
        }
      ],
      "source": [
        "data_train_df.head()\n"
      ]
    },
    {
      "cell_type": "code",
      "execution_count": 13,
      "metadata": {
        "id": "3ru2x1v34jCd"
      },
      "outputs": [
        {
          "data": {
            "text/plain": [
              "1.0    4983\n",
              "0.0    2289\n",
              "Name: labels, dtype: int64"
            ]
          },
          "execution_count": 13,
          "metadata": {},
          "output_type": "execute_result"
        }
      ],
      "source": [
        "z = data_train_df.iloc[:7272, :]\n",
        "z['labels'].value_counts()\n"
      ]
    },
    {
      "cell_type": "code",
      "execution_count": 14,
      "metadata": {
        "colab": {
          "base_uri": "https://localhost:8080/",
          "height": 206
        },
        "id": "ytdqDCju0Vpd",
        "outputId": "58bddbdf-4f63-4728-c8cd-eb351d1329ba"
      },
      "outputs": [
        {
          "data": {
            "text/html": [
              "<div>\n",
              "<style scoped>\n",
              "    .dataframe tbody tr th:only-of-type {\n",
              "        vertical-align: middle;\n",
              "    }\n",
              "\n",
              "    .dataframe tbody tr th {\n",
              "        vertical-align: top;\n",
              "    }\n",
              "\n",
              "    .dataframe thead th {\n",
              "        text-align: right;\n",
              "    }\n",
              "</style>\n",
              "<table border=\"1\" class=\"dataframe\">\n",
              "  <thead>\n",
              "    <tr style=\"text-align: right;\">\n",
              "      <th></th>\n",
              "      <th>img_data</th>\n",
              "      <th>labels</th>\n",
              "    </tr>\n",
              "  </thead>\n",
              "  <tbody>\n",
              "    <tr>\n",
              "      <th>0</th>\n",
              "      <td>C-NMC_Leukemia/training_data/fold_2/all/UID_67...</td>\n",
              "      <td>1.0</td>\n",
              "    </tr>\n",
              "    <tr>\n",
              "      <th>1</th>\n",
              "      <td>C-NMC_Leukemia/training_data/fold_0/all/UID_35...</td>\n",
              "      <td>1.0</td>\n",
              "    </tr>\n",
              "    <tr>\n",
              "      <th>2</th>\n",
              "      <td>C-NMC_Leukemia/training_data/fold_1/all/UID_51...</td>\n",
              "      <td>1.0</td>\n",
              "    </tr>\n",
              "    <tr>\n",
              "      <th>3</th>\n",
              "      <td>C-NMC_Leukemia/training_data/fold_0/all/UID_45...</td>\n",
              "      <td>1.0</td>\n",
              "    </tr>\n",
              "    <tr>\n",
              "      <th>4</th>\n",
              "      <td>C-NMC_Leukemia/training_data/fold_1/all/UID_51...</td>\n",
              "      <td>1.0</td>\n",
              "    </tr>\n",
              "  </tbody>\n",
              "</table>\n",
              "</div>"
            ],
            "text/plain": [
              "                                            img_data  labels\n",
              "0  C-NMC_Leukemia/training_data/fold_2/all/UID_67...     1.0\n",
              "1  C-NMC_Leukemia/training_data/fold_0/all/UID_35...     1.0\n",
              "2  C-NMC_Leukemia/training_data/fold_1/all/UID_51...     1.0\n",
              "3  C-NMC_Leukemia/training_data/fold_0/all/UID_45...     1.0\n",
              "4  C-NMC_Leukemia/training_data/fold_1/all/UID_51...     1.0"
            ]
          },
          "execution_count": 14,
          "metadata": {},
          "output_type": "execute_result"
        }
      ],
      "source": [
        "# create a sample df just to test the workflow\n",
        "\n",
        "sample_df = data_train_df.iloc[1000:2000, :]\n",
        "sample_df.reset_index(inplace=True, drop=True)\n",
        "sample_df.head()\n"
      ]
    },
    {
      "cell_type": "code",
      "execution_count": 15,
      "metadata": {
        "colab": {
          "base_uri": "https://localhost:8080/"
        },
        "id": "xng9WQC04aba",
        "outputId": "5c4777a3-21be-4893-f7d7-8bf191298c39"
      },
      "outputs": [
        {
          "data": {
            "text/plain": [
              "1.0    676\n",
              "0.0    324\n",
              "Name: labels, dtype: int64"
            ]
          },
          "execution_count": 15,
          "metadata": {},
          "output_type": "execute_result"
        }
      ],
      "source": [
        "sample_df['labels'].value_counts()\n"
      ]
    },
    {
      "cell_type": "code",
      "execution_count": 16,
      "metadata": {
        "colab": {
          "base_uri": "https://localhost:8080/"
        },
        "id": "H3h-a6Lz32gh",
        "outputId": "ae0f288f-4140-4e15-e8d4-b54aa45889cf"
      },
      "outputs": [
        {
          "name": "stderr",
          "output_type": "stream",
          "text": [
            "100%|██████████| 1000/1000 [08:11<00:00,  2.04it/s]\n"
          ]
        }
      ],
      "source": [
        "sample_img_list = []\n",
        "\n",
        "for i in tqdm(range(len(sample_df))):\n",
        "\n",
        "    blob = bucket.blob(sample_df['img_data'][i])\n",
        "    image_bytes = blob.download_as_bytes()\n",
        "    nparr = np.frombuffer(image_bytes, np.uint8)\n",
        "    image = cv.imdecode(nparr, cv.IMREAD_COLOR)\n",
        "    sample_img_list.append(image)\n"
      ]
    },
    {
      "cell_type": "code",
      "execution_count": 17,
      "metadata": {
        "colab": {
          "base_uri": "https://localhost:8080/",
          "height": 269
        },
        "id": "NkzXFbxm0Vpe",
        "outputId": "2e17c7dd-2d12-4341-a4c7-92325e22ce91"
      },
      "outputs": [
        {
          "data": {
            "image/png": "[encoded data removed]",
            "text/plain": [
              "<Figure size 640x480 with 1 Axes>"
            ]
          },
          "metadata": {},
          "output_type": "display_data"
        }
      ],
      "source": [
        "plt.imshow(sample_img_list[99])\n",
        "plt.show()\n"
      ]
    },
    {
      "cell_type": "code",
      "execution_count": 18,
      "metadata": {
        "id": "0tYKlirz0Vpe"
      },
      "outputs": [],
      "source": [
        "X = np.array(sample_img_list)\n",
        "y = np.array(sample_df['labels'])\n"
      ]
    },
    {
      "cell_type": "code",
      "execution_count": 19,
      "metadata": {
        "colab": {
          "base_uri": "https://localhost:8080/"
        },
        "id": "gFPm4z280Vpe",
        "outputId": "f521aa5c-b6b8-4fda-c587-ab9a91d6c88f"
      },
      "outputs": [
        {
          "data": {
            "text/plain": [
              "(1000, 450, 450, 3)"
            ]
          },
          "execution_count": 19,
          "metadata": {},
          "output_type": "execute_result"
        }
      ],
      "source": [
        "X.shape\n"
      ]
    },
    {
      "cell_type": "code",
      "execution_count": 20,
      "metadata": {
        "id": "1WOVb-2D0Vpe"
      },
      "outputs": [],
      "source": [
        "from sklearn.model_selection import train_test_split\n",
        "\n",
        "X_train, X_val, y_train, y_val = train_test_split(X, y, test_size=0.2)\n"
      ]
    },
    {
      "cell_type": "code",
      "execution_count": 21,
      "metadata": {
        "id": "TXyd2STw0Vpe"
      },
      "outputs": [],
      "source": [
        "y_df = pd.DataFrame(y_val)\n"
      ]
    },
    {
      "cell_type": "code",
      "execution_count": 22,
      "metadata": {
        "colab": {
          "base_uri": "https://localhost:8080/"
        },
        "id": "C8scZika0Vpf",
        "outputId": "eca5c278-5189-4425-f28d-57c4f8acb71f"
      },
      "outputs": [
        {
          "data": {
            "text/plain": [
              "1.0    138\n",
              "0.0     62\n",
              "dtype: int64"
            ]
          },
          "execution_count": 22,
          "metadata": {},
          "output_type": "execute_result"
        }
      ],
      "source": [
        "y_df.value_counts()\n"
      ]
    },
    {
      "cell_type": "code",
      "execution_count": 23,
      "metadata": {
        "colab": {
          "base_uri": "https://localhost:8080/"
        },
        "id": "h3Ronl7CRIR2",
        "outputId": "f135f068-d7e6-4fe4-a0b3-368b37133c2e"
      },
      "outputs": [
        {
          "name": "stdout",
          "output_type": "stream",
          "text": [
            "(800, 450, 450, 3)\n",
            "(800,)\n",
            "(200, 450, 450, 3)\n",
            "(200,)\n"
          ]
        }
      ],
      "source": [
        "print(X_train.shape)\n",
        "print(y_train.shape)\n",
        "print(X_val.shape)\n",
        "print(y_val.shape)\n"
      ]
    },
    {
      "cell_type": "code",
      "execution_count": 24,
      "metadata": {
        "colab": {
          "base_uri": "https://localhost:8080/",
          "height": 204
        },
        "id": "2Tsl0EdmReir",
        "outputId": "a1ccb63e-f275-40f1-b05b-ec33ea128f62"
      },
      "outputs": [
        {
          "data": {
            "image/png": "[encoded data removed]",
            "text/plain": [
              "<Figure size 640x480 with 2 Axes>"
            ]
          },
          "metadata": {},
          "output_type": "display_data"
        }
      ],
      "source": [
        "plt.subplot(1, 2, 1)\n",
        "plt.imshow(X_train[9]);\n",
        "plt.subplot(1, 2, 2)\n",
        "plt.imshow(X_val[8]);\n"
      ]
    },
    {
      "cell_type": "code",
      "execution_count": 25,
      "metadata": {
        "id": "Faw_iTxdXouT"
      },
      "outputs": [],
      "source": [
        "from tensorflow.keras.layers.experimental.preprocessing import Rescaling\n",
        "from tensorflow.keras import models, layers\n"
      ]
    },
    {
      "cell_type": "code",
      "execution_count": 26,
      "metadata": {
        "id": "okiY74GIXsga"
      },
      "outputs": [],
      "source": [
        "def load_model():\n",
        "\n",
        "  model = models.Sequential()\n",
        "\n",
        "  model.add(Rescaling(1./450, input_shape=(450,450,3)))\n",
        "\n",
        "  model.add(layers.Conv2D(8, (3, 3), activation='relu', padding='same'))\n",
        "  model.add(layers.MaxPool2D(pool_size=(2,2)))\n",
        "  model.add(layers.Dropout(0.2))\n",
        "\n",
        "  model.add(layers.Conv2D(16, (2, 2), activation='relu', padding='same'))\n",
        "  model.add(layers.MaxPool2D(pool_size=(2,2)))\n",
        "  model.add(layers.Dropout(0.3))\n",
        "\n",
        "  model.add(layers.Flatten())\n",
        "\n",
        "  model.add(layers.Dense(10))\n",
        "\n",
        "  model.add(layers.Dense(1, activation='sigmoid'))\n",
        "\n",
        "  model.compile(loss='binary_crossentropy', optimizer='adam', metrics=['accuracy'])\n",
        "\n",
        "  return model\n"
      ]
    },
    {
      "cell_type": "code",
      "execution_count": 27,
      "metadata": {
        "id": "LFaLLFx3X3IU"
      },
      "outputs": [
        {
          "name": "stderr",
          "output_type": "stream",
          "text": [
            "2023-03-23 09:13:28.550369: I tensorflow/core/platform/cpu_feature_guard.cc:193] This TensorFlow binary is optimized with oneAPI Deep Neural Network Library (oneDNN) to use the following CPU instructions in performance-critical operations:  AVX2 FMA\n",
            "To enable them in other operations, rebuild TensorFlow with the appropriate compiler flags.\n"
          ]
        }
      ],
      "source": [
        "base_model = load_model()\n"
      ]
    },
    {
      "cell_type": "code",
      "execution_count": 28,
      "metadata": {
        "colab": {
          "base_uri": "https://localhost:8080/"
        },
        "id": "Q_R_T3KShjS4",
        "outputId": "caec3c50-4703-4a15-bf17-68cb3bb43d63"
      },
      "outputs": [
        {
          "name": "stdout",
          "output_type": "stream",
          "text": [
            "Model: \"sequential\"\n",
            "_________________________________________________________________\n",
            " Layer (type)                Output Shape              Param #   \n",
            "=================================================================\n",
            " rescaling (Rescaling)       (None, 450, 450, 3)       0         \n",
            "                                                                 \n",
            " conv2d (Conv2D)             (None, 450, 450, 8)       224       \n",
            "                                                                 \n",
            " max_pooling2d (MaxPooling2D  (None, 225, 225, 8)      0         \n",
            " )                                                               \n",
            "                                                                 \n",
            " dropout (Dropout)           (None, 225, 225, 8)       0         \n",
            "                                                                 \n",
            " conv2d_1 (Conv2D)           (None, 225, 225, 16)      528       \n",
            "                                                                 \n",
            " max_pooling2d_1 (MaxPooling  (None, 112, 112, 16)     0         \n",
            " 2D)                                                             \n",
            "                                                                 \n",
            " dropout_1 (Dropout)         (None, 112, 112, 16)      0         \n",
            "                                                                 \n",
            " flatten (Flatten)           (None, 200704)            0         \n",
            "                                                                 \n",
            " dense (Dense)               (None, 10)                2007050   \n",
            "                                                                 \n",
            " dense_1 (Dense)             (None, 1)                 11        \n",
            "                                                                 \n",
            "=================================================================\n",
            "Total params: 2,007,813\n",
            "Trainable params: 2,007,813\n",
            "Non-trainable params: 0\n",
            "_________________________________________________________________\n"
          ]
        }
      ],
      "source": [
        "base_model.summary()\n"
      ]
    },
    {
      "cell_type": "code",
      "execution_count": 29,
      "metadata": {
        "id": "FXs2NVRAYZ-y"
      },
      "outputs": [],
      "source": [
        "from tensorflow.keras.callbacks import EarlyStopping\n"
      ]
    },
    {
      "cell_type": "code",
      "execution_count": 32,
      "metadata": {
        "id": "nkI2PquEYc5T"
      },
      "outputs": [],
      "source": [
        "es_base = EarlyStopping(monitor = 'val_accuracy',\n",
        "                   mode = 'max',\n",
        "                   patience = 5,\n",
        "                   verbose = 1,\n",
        "                   restore_best_weights = True)\n"
      ]
    },
    {
      "cell_type": "code",
      "execution_count": null,
      "metadata": {
        "colab": {
          "base_uri": "https://localhost:8080/"
        },
        "id": "TrBrLcX2YgtB",
        "outputId": "ac4e4aa0-551a-47ce-f8db-7c8a73ebbbc2"
      },
      "outputs": [],
      "source": [
        "base_history = base_model.fit(X_train, y_train, validation_data=(X_val, y_val),\n",
        "                              batch_size=128, callbacks=[es_base], epochs=25)\n"
      ]
    },
    {
      "cell_type": "code",
      "execution_count": 34,
      "metadata": {},
      "outputs": [],
      "source": [
        "def plot_history(history, title='', axs=None, exp_name=\"\"):\n",
        "    if axs is not None:\n",
        "        ax1, ax2 = axs\n",
        "    else:\n",
        "        f, (ax1, ax2) = plt.subplots(1, 2, figsize=(12, 4))\n",
        "\n",
        "    if len(exp_name) > 0 and exp_name[0] != '_':\n",
        "        exp_name = '_' + exp_name\n",
        "    ax1.plot(history.history['loss'], label='train' + exp_name)\n",
        "    ax1.plot(history.history['val_loss'], label='val' + exp_name)\n",
        "    #ax1.set_ylim(0., 2.2)\n",
        "    ax1.set_title('loss')\n",
        "    ax1.legend()\n",
        "\n",
        "    ax2.plot(history.history['accuracy'], label='train accuracy'  + exp_name)\n",
        "    ax2.plot(history.history['val_accuracy'], label='val accuracy'  + exp_name)\n",
        "    #ax2.set_ylim(0.25, 1.)\n",
        "    ax2.set_title('Accuracy')\n",
        "    ax2.legend()\n",
        "    return (ax1, ax2)\n"
      ]
    },
    {
      "cell_type": "code",
      "execution_count": null,
      "metadata": {},
      "outputs": [],
      "source": [
        "plot_history(base_history)\n"
      ]
    },
    {
      "cell_type": "code",
      "execution_count": null,
      "metadata": {
        "colab": {
          "base_uri": "https://localhost:8080/"
        },
        "id": "a4ZfuV03_NiS",
        "outputId": "8512cf24-ea75-4fda-ab2d-3e48c63f68dc"
      },
      "outputs": [],
      "source": [
        "save_model_path = '/trained_models/cnn_base_model_simple'\n",
        "load_model_path = '/trained_models/cnn_base_model_simple/saved_model.pb'\n",
        "keras.models.save_model(base_model, save_model_path)\n",
        "model_filename = 'cnn_base_model_simple'\n",
        "\n",
        "blob = bucket.blob(f\"models/{model_filename}\")\n",
        "blob.upload_from_filename(load_model_path)\n"
      ]
    },
    {
      "cell_type": "code",
      "execution_count": 37,
      "metadata": {},
      "outputs": [
        {
          "name": "stdout",
          "output_type": "stream",
          "text": [
            "1868\n"
          ]
        }
      ],
      "source": [
        "# load test data\n",
        "\n",
        "test_folder = bucket.blob(\"C-NMC_Leukemia/testing_data/C-NMC_test_prelim_phase_data\")\n",
        "test_image_paths = []\n",
        "for blob in bucket.list_blobs(prefix=test_folder.name):\n",
        "    image_path = blob.name\n",
        "    test_image_paths.append(image_path)\n",
        "\n",
        "print(len(test_image_paths))\n"
      ]
    },
    {
      "cell_type": "code",
      "execution_count": 38,
      "metadata": {},
      "outputs": [
        {
          "name": "stderr",
          "output_type": "stream",
          "text": [
            "100%|██████████| 100/100 [01:56<00:00,  1.16s/it]\n"
          ]
        }
      ],
      "source": [
        "test_img_list = []\n",
        "\n",
        "for i in tqdm(range(100)):\n",
        "    blob = bucket.blob(test_image_paths[i])\n",
        "    image_bytes = blob.download_as_bytes()\n",
        "    nparr = np.frombuffer(image_bytes, np.uint8)\n",
        "    test_img = cv.imdecode(nparr, cv.IMREAD_COLOR)\n",
        "    test_img_list.append(test_img)\n"
      ]
    },
    {
      "cell_type": "code",
      "execution_count": 39,
      "metadata": {},
      "outputs": [],
      "source": [
        "X_test= []\n",
        "for i in test_img_list:\n",
        "    s = np.resize((i), (450, 450, 3))\n",
        "    X_test.append(s)\n",
        "X_test = np.array(X_test)\n"
      ]
    },
    {
      "cell_type": "code",
      "execution_count": 40,
      "metadata": {},
      "outputs": [
        {
          "data": {
            "text/plain": [
              "100"
            ]
          },
          "execution_count": 40,
          "metadata": {},
          "output_type": "execute_result"
        }
      ],
      "source": [
        "len(test_img_list)\n"
      ]
    },
    {
      "cell_type": "code",
      "execution_count": 41,
      "metadata": {},
      "outputs": [
        {
          "data": {
            "text/plain": [
              "(100, 450, 450, 3)"
            ]
          },
          "execution_count": 41,
          "metadata": {},
          "output_type": "execute_result"
        }
      ],
      "source": [
        "X_test.shape\n"
      ]
    },
    {
      "cell_type": "code",
      "execution_count": 42,
      "metadata": {},
      "outputs": [
        {
          "data": {
            "image/png": "[encoded data removed]",
            "text/plain": [
              "<Figure size 640x480 with 1 Axes>"
            ]
          },
          "metadata": {},
          "output_type": "display_data"
        }
      ],
      "source": [
        "plt.imshow(test_img_list[19])\n",
        "plt.show()\n"
      ]
    },
    {
      "cell_type": "code",
      "execution_count": 46,
      "metadata": {},
      "outputs": [
        {
          "data": {
            "text/html": [
              "<div>\n",
              "<style scoped>\n",
              "    .dataframe tbody tr th:only-of-type {\n",
              "        vertical-align: middle;\n",
              "    }\n",
              "\n",
              "    .dataframe tbody tr th {\n",
              "        vertical-align: top;\n",
              "    }\n",
              "\n",
              "    .dataframe thead th {\n",
              "        text-align: right;\n",
              "    }\n",
              "</style>\n",
              "<table border=\"1\" class=\"dataframe\">\n",
              "  <thead>\n",
              "    <tr style=\"text-align: right;\">\n",
              "      <th></th>\n",
              "      <th>Patient_ID</th>\n",
              "      <th>new_names</th>\n",
              "      <th>labels</th>\n",
              "    </tr>\n",
              "  </thead>\n",
              "  <tbody>\n",
              "    <tr>\n",
              "      <th>0</th>\n",
              "      <td>UID_57_29_1_all.bmp</td>\n",
              "      <td>1.bmp</td>\n",
              "      <td>1</td>\n",
              "    </tr>\n",
              "    <tr>\n",
              "      <th>1</th>\n",
              "      <td>UID_57_22_2_all.bmp</td>\n",
              "      <td>2.bmp</td>\n",
              "      <td>1</td>\n",
              "    </tr>\n",
              "    <tr>\n",
              "      <th>2</th>\n",
              "      <td>UID_57_31_3_all.bmp</td>\n",
              "      <td>3.bmp</td>\n",
              "      <td>1</td>\n",
              "    </tr>\n",
              "    <tr>\n",
              "      <th>3</th>\n",
              "      <td>UID_H49_35_1_hem.bmp</td>\n",
              "      <td>4.bmp</td>\n",
              "      <td>0</td>\n",
              "    </tr>\n",
              "    <tr>\n",
              "      <th>4</th>\n",
              "      <td>UID_58_6_13_all.bmp</td>\n",
              "      <td>5.bmp</td>\n",
              "      <td>1</td>\n",
              "    </tr>\n",
              "  </tbody>\n",
              "</table>\n",
              "</div>"
            ],
            "text/plain": [
              "             Patient_ID new_names  labels\n",
              "0   UID_57_29_1_all.bmp     1.bmp       1\n",
              "1   UID_57_22_2_all.bmp     2.bmp       1\n",
              "2   UID_57_31_3_all.bmp     3.bmp       1\n",
              "3  UID_H49_35_1_hem.bmp     4.bmp       0\n",
              "4   UID_58_6_13_all.bmp     5.bmp       1"
            ]
          },
          "execution_count": 46,
          "metadata": {},
          "output_type": "execute_result"
        }
      ],
      "source": [
        "labels = bucket.blob(\"C-NMC_Leukemia/testing_data/C-NMC_test_prelim_phase_data_labels.csv\")\n",
        "csv_data = labels.download_to_filename('test_labels')\n",
        "\n",
        "# Create a Pandas DataFrame from the CSV data\n",
        "test_img_labels = pd.read_csv('test_labels')\n",
        "test_img_labels.head()\n"
      ]
    },
    {
      "cell_type": "code",
      "execution_count": 44,
      "metadata": {},
      "outputs": [],
      "source": [
        "y_test = np.array(test_img_labels['labels'])\n",
        "y_test = y_test[:100]\n"
      ]
    },
    {
      "cell_type": "code",
      "execution_count": null,
      "metadata": {
        "id": "z5HwT3TiZWKL"
      },
      "outputs": [],
      "source": [
        "score = base_model.evaluate(X_test, y_test)[1]\n"
      ]
    },
    {
      "cell_type": "code",
      "execution_count": null,
      "metadata": {
        "id": "KAKanvpEZQ4F"
      },
      "outputs": [],
      "source": [
        "print(f\"The accuracy of the baseline model is: {score}\")\n"
      ]
    },
    {
      "cell_type": "code",
      "execution_count": null,
      "metadata": {},
      "outputs": [],
      "source": [
        "from tensorflow.keras.applications.vgg16 import VGG16\n",
        "from tensorflow.keras import optimizers\n",
        "\n",
        "def load_VGG16_model():\n",
        "\n",
        "    VGG_model = VGG16(weights=\"imagenet\", include_top=False, input_shape=X_train[0].shape)\n",
        "    VGG_model.trainable=False\n",
        "\n",
        "    flattening_layer = layers.Flatten()\n",
        "    dense_layer = layers.Dense(10, activation='relu')\n",
        "    prediction_layer = layers.Dense(1, activation='sigmoid')\n",
        "\n",
        "    model = models.Sequential([\n",
        "        VGG_model,\n",
        "        flattening_layer,\n",
        "        dense_layer,\n",
        "        prediction_layer\n",
        "        ])\n",
        "\n",
        "\n",
        "    opt = optimizers.Adam(learning_rate=1e-4)\n",
        "\n",
        "    model.compile(loss='binary_crossentropy', optimizer= opt, metrics='accuracy')\n",
        "\n",
        "    return model\n"
      ]
    },
    {
      "cell_type": "code",
      "execution_count": null,
      "metadata": {
        "id": "6jwB8uiB3Zah"
      },
      "outputs": [],
      "source": [
        "model_VGG16 = load_VGG16_model()\n"
      ]
    },
    {
      "cell_type": "code",
      "execution_count": null,
      "metadata": {
        "id": "PPeKa8tc3ox6"
      },
      "outputs": [
        {
          "name": "stdout",
          "output_type": "stream",
          "text": [
            "Model: \"sequential_5\"\n",
            "_________________________________________________________________\n",
            " Layer (type)                Output Shape              Param #   \n",
            "=================================================================\n",
            " vgg16 (Functional)          (None, 14, 14, 512)       14714688  \n",
            "                                                                 \n",
            " flatten_5 (Flatten)         (None, 100352)            0         \n",
            "                                                                 \n",
            " dense_10 (Dense)            (None, 10)                1003530   \n",
            "                                                                 \n",
            " dense_11 (Dense)            (None, 1)                 11        \n",
            "                                                                 \n",
            "=================================================================\n",
            "Total params: 15,718,229\n",
            "Trainable params: 1,003,541\n",
            "Non-trainable params: 14,714,688\n",
            "_________________________________________________________________\n"
          ]
        }
      ],
      "source": [
        "model_VGG16.summary()\n"
      ]
    },
    {
      "cell_type": "code",
      "execution_count": null,
      "metadata": {
        "id": "C3KMYNKVT0t9"
      },
      "outputs": [],
      "source": [
        "from tensorflow.keras.applications.vgg16 import preprocess_input\n"
      ]
    },
    {
      "cell_type": "code",
      "execution_count": null,
      "metadata": {
        "id": "w9ajWBVPT2am"
      },
      "outputs": [],
      "source": [
        "X_train_vg = preprocess_input(X_train)\n",
        "X_val_vg = preprocess_input(X_val)\n",
        "X_test_vg = preprocess_input(X_test)\n"
      ]
    },
    {
      "cell_type": "code",
      "execution_count": null,
      "metadata": {
        "id": "XuSIyITFUKrs"
      },
      "outputs": [],
      "source": [
        "from tensorflow.keras.callbacks import EarlyStopping\n",
        "es = EarlyStopping(patience=10)\n"
      ]
    },
    {
      "cell_type": "code",
      "execution_count": null,
      "metadata": {
        "id": "Nl1NDYuvT-2g"
      },
      "outputs": [],
      "source": [
        "history = model_VGG16.fit(X_train_vg, y_train, validation_data=(X_val_vg, y_val),\n",
        "                          callbacks=[es], batch_size=64, epochs=50)\n"
      ]
    },
    {
      "cell_type": "code",
      "execution_count": null,
      "metadata": {
        "id": "dd6TF-eXV86h"
      },
      "outputs": [],
      "source": [
        "score_vg = model_VGG16.evaluate(X_test_vg, y_test)[1]\n"
      ]
    },
    {
      "cell_type": "code",
      "execution_count": null,
      "metadata": {
        "id": "z0nIuTWQWCSJ"
      },
      "outputs": [],
      "source": [
        "print(f\"The accuracy of the model is: {score}\")\n"
      ]
    }
  ],
  "metadata": {
    "accelerator": "GPU",
    "colab": {
      "provenance": []
    },
    "gpuClass": "standard",
    "kernelspec": {
      "display_name": "Python 3 (ipykernel)",
      "language": "python",
      "name": "python3"
    },
    "language_info": {
      "codemirror_mode": {
        "name": "ipython",
        "version": 3
      },
      "file_extension": ".py",
      "mimetype": "text/x-python",
      "name": "python",
      "nbconvert_exporter": "python",
      "pygments_lexer": "ipython3",
      "version": "3.10.6"
    },
    "toc": {
      "base_numbering": 1,
      "nav_menu": {},
      "number_sections": true,
      "sideBar": true,
      "skip_h1_title": false,
      "title_cell": "Table of Contents",
      "title_sidebar": "Contents",
      "toc_cell": false,
      "toc_position": {},
      "toc_section_display": true,
      "toc_window_display": false
    },
    "vscode": {
      "interpreter": {
        "hash": "f1e08a2b351939f9bb1581236c8fdd8f9948527ad903e2dc45bf6e92e6ab8613"
      }
    }
  },
  "nbformat": 4,
  "nbformat_minor": 0
}
