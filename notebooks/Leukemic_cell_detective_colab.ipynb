{
  "cells": [
    {
      "cell_type": "markdown",
      "metadata": {
        "colab_type": "text",
        "id": "view-in-github"
      },
      "source": [
        "<a href=\"https://colab.research.google.com/github/Karlobyo/leukemic_cell_detective/blob/main/Leukemic_cell_detective.ipynb\" target=\"_parent\"><img src=\"https://colab.research.google.com/assets/colab-badge.svg\" alt=\"Open In Colab\"/></a>"
      ]
    },
    {
      "cell_type": "markdown",
      "metadata": {
        "id": "jHCcCge-aq4b"
      },
      "source": [
        "## Dataset from kaggle\n",
        "https://www.kaggle.com/datasets/andrewmvd/leukemia-classification"
      ]
    },
    {
      "cell_type": "markdown",
      "metadata": {
        "id": "GSHMTPuklFp2"
      },
      "source": [
        "Original dataset\n",
        "https://wiki.cancerimagingarchive.net/pages/viewpage.action?pageId=52758223"
      ]
    },
    {
      "cell_type": "markdown",
      "metadata": {
        "id": "x2NlnnNHa_az"
      },
      "source": [
        "Gupta, A., & Gupta, R. (2019). ALL Challenge dataset of ISBI 2019 [Data set]. The Cancer Imaging Archive. https://doi.org/10.7937/tcia.2019.dc64i46r"
      ]
    },
    {
      "cell_type": "code",
      "execution_count": 10,
      "metadata": {
        "colab": {
          "base_uri": "https://localhost:8080/"
        },
        "id": "vnSuvUBiXVZa",
        "outputId": "8db6b7ec-b1ce-4250-9f9e-6f3f5984a17d"
      },
      "outputs": [
        {
          "name": "stdout",
          "output_type": "stream",
          "text": [
            "Mounted at /content/drive\n"
          ]
        }
      ],
      "source": [
        "# Mount GDrive\n",
        "from google.colab import drive\n",
        "drive.mount('/content/drive', force_remount=True)"
      ]
    },
    {
      "cell_type": "code",
      "execution_count": 11,
      "metadata": {
        "id": "ZnsQZ5zAx_p9"
      },
      "outputs": [],
      "source": [
        "import numpy as np \n",
        "import pandas as pd \n",
        "import os\n",
        "import cv2 as cv\n",
        "import matplotlib.pyplot as plt\n",
        "import seaborn as sns"
      ]
    },
    {
      "cell_type": "code",
      "execution_count": 12,
      "metadata": {
        "id": "59BwF9wXYiV0"
      },
      "outputs": [],
      "source": [
        "# Put Colab in the context of this challenge\n",
        "import os\n",
        "\n",
        "# os.chdir allows you to change directories, like cd in the Terminal\n",
        "os.chdir('/content/drive/MyDrive/Leukemic_Cell_Detective/')"
      ]
    },
    {
      "cell_type": "code",
      "execution_count": 13,
      "metadata": {
        "colab": {
          "base_uri": "https://localhost:8080/"
        },
        "id": "CkK_K2BYY0Xh",
        "outputId": "1284d805-7791-4659-9530-923d5405b0d7"
      },
      "outputs": [
        {
          "name": "stdout",
          "output_type": "stream",
          "text": [
            "/content/drive/MyDrive/Leukemic_Cell_Detective\n"
          ]
        }
      ],
      "source": [
        "!pwd"
      ]
    },
    {
      "cell_type": "code",
      "execution_count": 14,
      "metadata": {
        "colab": {
          "base_uri": "https://localhost:8080/"
        },
        "id": "m0Qleg23Y3vJ",
        "outputId": "3bc49ee9-de7f-486e-9cb2-c006454d1b02"
      },
      "outputs": [
        {
          "name": "stdout",
          "output_type": "stream",
          "text": [
            "C-NMC_Leukemia\tLeukemic_cell_detective.ipynb  leukemic_cells_data.zip\n"
          ]
        }
      ],
      "source": [
        "!ls"
      ]
    },
    {
      "cell_type": "code",
      "execution_count": 15,
      "metadata": {
        "id": "HB1YHKq_Zk75"
      },
      "outputs": [],
      "source": [
        "#!unzip leukemic_cells_data.zip\n"
      ]
    },
    {
      "cell_type": "code",
      "execution_count": 16,
      "metadata": {
        "id": "mH-9lhgHFL0I"
      },
      "outputs": [],
      "source": [
        "all_0 = \"/content/drive/MyDrive/Leukemic_Cell_Detective/C-NMC_Leukemia/training_data/fold_0/all\"\n",
        "all_1 = \"/content/drive/MyDrive/Leukemic_Cell_Detective/C-NMC_Leukemia/training_data/fold_1/all\"\n",
        "all_2 = \"/content/drive/MyDrive/Leukemic_Cell_Detective/C-NMC_Leukemia/training_data/fold_2/all\"\n",
        "\n",
        "hem_0 = \"/content/drive/MyDrive/Leukemic_Cell_Detective/C-NMC_Leukemia/training_data/fold_0/hem\"\n",
        "hem_1 = \"/content/drive/MyDrive/Leukemic_Cell_Detective/C-NMC_Leukemia/training_data/fold_1/hem\"\n",
        "hem_2 = \"/content/drive/MyDrive/Leukemic_Cell_Detective/C-NMC_Leukemia/training_data/fold_2/hem\""
      ]
    },
    {
      "cell_type": "code",
      "execution_count": 17,
      "metadata": {
        "colab": {
          "base_uri": "https://localhost:8080/"
        },
        "id": "3ZVTYyH86KBv",
        "outputId": "2693db27-4a95-4808-c530-b4dbe662c49c"
      },
      "outputs": [
        {
          "name": "stdout",
          "output_type": "stream",
          "text": [
            "86\n"
          ]
        }
      ],
      "source": [
        "print(len(all_0))\n"
      ]
    },
    {
      "cell_type": "code",
      "execution_count": 18,
      "metadata": {
        "id": "PQmWhFaZ7sBl"
      },
      "outputs": [],
      "source": [
        "def get_path_image(folder):\n",
        "    image_paths = []\n",
        "    image_fnames = os.listdir(folder) \n",
        "    for img_id in range(len(image_fnames)):\n",
        "        img = os.path.join(folder,image_fnames[img_id])\n",
        "        image_paths.append(img)\n",
        "    \n",
        "    return image_paths"
      ]
    },
    {
      "cell_type": "code",
      "execution_count": 19,
      "metadata": {
        "colab": {
          "base_uri": "https://localhost:8080/"
        },
        "id": "7N8kKyM-71ND",
        "outputId": "7970a36b-6084-47b3-d877-9d8096b33a47"
      },
      "outputs": [
        {
          "name": "stdout",
          "output_type": "stream",
          "text": [
            "10661\n"
          ]
        }
      ],
      "source": [
        "# load training data\n",
        "\n",
        "img_data_train = []\n",
        "\n",
        "for i in [all_0,all_1,all_2,hem_0,hem_1,hem_2]:\n",
        "    paths = get_path_image(i)\n",
        "    img_data_train.extend(paths)\n",
        "print(len(img_data_train))"
      ]
    },
    {
      "cell_type": "code",
      "execution_count": 20,
      "metadata": {
        "colab": {
          "base_uri": "https://localhost:8080/",
          "height": 424
        },
        "id": "c2hImfR_6KLC",
        "outputId": "d62c5e4e-bd40-4af8-a423-bda899a64d87"
      },
      "outputs": [
        {
          "data": {
            "text/html": [
              "\n",
              "  <div id=\"df-9e175f27-a940-4463-8e5b-0fe694871df5\">\n",
              "    <div class=\"colab-df-container\">\n",
              "      <div>\n",
              "<style scoped>\n",
              "    .dataframe tbody tr th:only-of-type {\n",
              "        vertical-align: middle;\n",
              "    }\n",
              "\n",
              "    .dataframe tbody tr th {\n",
              "        vertical-align: top;\n",
              "    }\n",
              "\n",
              "    .dataframe thead th {\n",
              "        text-align: right;\n",
              "    }\n",
              "</style>\n",
              "<table border=\"1\" class=\"dataframe\">\n",
              "  <thead>\n",
              "    <tr style=\"text-align: right;\">\n",
              "      <th></th>\n",
              "      <th>img_data</th>\n",
              "      <th>labels</th>\n",
              "    </tr>\n",
              "  </thead>\n",
              "  <tbody>\n",
              "    <tr>\n",
              "      <th>0</th>\n",
              "      <td>/content/drive/MyDrive/Leukemic_Cell_Detective...</td>\n",
              "      <td>NaN</td>\n",
              "    </tr>\n",
              "    <tr>\n",
              "      <th>1</th>\n",
              "      <td>/content/drive/MyDrive/Leukemic_Cell_Detective...</td>\n",
              "      <td>NaN</td>\n",
              "    </tr>\n",
              "    <tr>\n",
              "      <th>2</th>\n",
              "      <td>/content/drive/MyDrive/Leukemic_Cell_Detective...</td>\n",
              "      <td>NaN</td>\n",
              "    </tr>\n",
              "    <tr>\n",
              "      <th>3</th>\n",
              "      <td>/content/drive/MyDrive/Leukemic_Cell_Detective...</td>\n",
              "      <td>NaN</td>\n",
              "    </tr>\n",
              "    <tr>\n",
              "      <th>4</th>\n",
              "      <td>/content/drive/MyDrive/Leukemic_Cell_Detective...</td>\n",
              "      <td>NaN</td>\n",
              "    </tr>\n",
              "    <tr>\n",
              "      <th>...</th>\n",
              "      <td>...</td>\n",
              "      <td>...</td>\n",
              "    </tr>\n",
              "    <tr>\n",
              "      <th>10656</th>\n",
              "      <td>/content/drive/MyDrive/Leukemic_Cell_Detective...</td>\n",
              "      <td>NaN</td>\n",
              "    </tr>\n",
              "    <tr>\n",
              "      <th>10657</th>\n",
              "      <td>/content/drive/MyDrive/Leukemic_Cell_Detective...</td>\n",
              "      <td>NaN</td>\n",
              "    </tr>\n",
              "    <tr>\n",
              "      <th>10658</th>\n",
              "      <td>/content/drive/MyDrive/Leukemic_Cell_Detective...</td>\n",
              "      <td>NaN</td>\n",
              "    </tr>\n",
              "    <tr>\n",
              "      <th>10659</th>\n",
              "      <td>/content/drive/MyDrive/Leukemic_Cell_Detective...</td>\n",
              "      <td>NaN</td>\n",
              "    </tr>\n",
              "    <tr>\n",
              "      <th>10660</th>\n",
              "      <td>/content/drive/MyDrive/Leukemic_Cell_Detective...</td>\n",
              "      <td>NaN</td>\n",
              "    </tr>\n",
              "  </tbody>\n",
              "</table>\n",
              "<p>10661 rows × 2 columns</p>\n",
              "</div>\n",
              "      <button class=\"colab-df-convert\" onclick=\"convertToInteractive('df-9e175f27-a940-4463-8e5b-0fe694871df5')\"\n",
              "              title=\"Convert this dataframe to an interactive table.\"\n",
              "              style=\"display:none;\">\n",
              "        \n",
              "  <svg xmlns=\"http://www.w3.org/2000/svg\" height=\"24px\"viewBox=\"0 0 24 24\"\n",
              "       width=\"24px\">\n",
              "    <path d=\"M0 0h24v24H0V0z\" fill=\"none\"/>\n",
              "    <path d=\"M18.56 5.44l.94 2.06.94-2.06 2.06-.94-2.06-.94-.94-2.06-.94 2.06-2.06.94zm-11 1L8.5 8.5l.94-2.06 2.06-.94-2.06-.94L8.5 2.5l-.94 2.06-2.06.94zm10 10l.94 2.06.94-2.06 2.06-.94-2.06-.94-.94-2.06-.94 2.06-2.06.94z\"/><path d=\"M17.41 7.96l-1.37-1.37c-.4-.4-.92-.59-1.43-.59-.52 0-1.04.2-1.43.59L10.3 9.45l-7.72 7.72c-.78.78-.78 2.05 0 2.83L4 21.41c.39.39.9.59 1.41.59.51 0 1.02-.2 1.41-.59l7.78-7.78 2.81-2.81c.8-.78.8-2.07 0-2.86zM5.41 20L4 18.59l7.72-7.72 1.47 1.35L5.41 20z\"/>\n",
              "  </svg>\n",
              "      </button>\n",
              "      \n",
              "  <style>\n",
              "    .colab-df-container {\n",
              "      display:flex;\n",
              "      flex-wrap:wrap;\n",
              "      gap: 12px;\n",
              "    }\n",
              "\n",
              "    .colab-df-convert {\n",
              "      background-color: #E8F0FE;\n",
              "      border: none;\n",
              "      border-radius: 50%;\n",
              "      cursor: pointer;\n",
              "      display: none;\n",
              "      fill: #1967D2;\n",
              "      height: 32px;\n",
              "      padding: 0 0 0 0;\n",
              "      width: 32px;\n",
              "    }\n",
              "\n",
              "    .colab-df-convert:hover {\n",
              "      background-color: #E2EBFA;\n",
              "      box-shadow: 0px 1px 2px rgba(60, 64, 67, 0.3), 0px 1px 3px 1px rgba(60, 64, 67, 0.15);\n",
              "      fill: #174EA6;\n",
              "    }\n",
              "\n",
              "    [theme=dark] .colab-df-convert {\n",
              "      background-color: #3B4455;\n",
              "      fill: #D2E3FC;\n",
              "    }\n",
              "\n",
              "    [theme=dark] .colab-df-convert:hover {\n",
              "      background-color: #434B5C;\n",
              "      box-shadow: 0px 1px 3px 1px rgba(0, 0, 0, 0.15);\n",
              "      filter: drop-shadow(0px 1px 2px rgba(0, 0, 0, 0.3));\n",
              "      fill: #FFFFFF;\n",
              "    }\n",
              "  </style>\n",
              "\n",
              "      <script>\n",
              "        const buttonEl =\n",
              "          document.querySelector('#df-9e175f27-a940-4463-8e5b-0fe694871df5 button.colab-df-convert');\n",
              "        buttonEl.style.display =\n",
              "          google.colab.kernel.accessAllowed ? 'block' : 'none';\n",
              "\n",
              "        async function convertToInteractive(key) {\n",
              "          const element = document.querySelector('#df-9e175f27-a940-4463-8e5b-0fe694871df5');\n",
              "          const dataTable =\n",
              "            await google.colab.kernel.invokeFunction('convertToInteractive',\n",
              "                                                     [key], {});\n",
              "          if (!dataTable) return;\n",
              "\n",
              "          const docLinkHtml = 'Like what you see? Visit the ' +\n",
              "            '<a target=\"_blank\" href=https://colab.research.google.com/notebooks/data_table.ipynb>data table notebook</a>'\n",
              "            + ' to learn more about interactive tables.';\n",
              "          element.innerHTML = '';\n",
              "          dataTable['output_type'] = 'display_data';\n",
              "          await google.colab.output.renderOutput(dataTable, element);\n",
              "          const docLink = document.createElement('div');\n",
              "          docLink.innerHTML = docLinkHtml;\n",
              "          element.appendChild(docLink);\n",
              "        }\n",
              "      </script>\n",
              "    </div>\n",
              "  </div>\n",
              "  "
            ],
            "text/plain": [
              "                                                img_data  labels\n",
              "0      /content/drive/MyDrive/Leukemic_Cell_Detective...     NaN\n",
              "1      /content/drive/MyDrive/Leukemic_Cell_Detective...     NaN\n",
              "2      /content/drive/MyDrive/Leukemic_Cell_Detective...     NaN\n",
              "3      /content/drive/MyDrive/Leukemic_Cell_Detective...     NaN\n",
              "4      /content/drive/MyDrive/Leukemic_Cell_Detective...     NaN\n",
              "...                                                  ...     ...\n",
              "10656  /content/drive/MyDrive/Leukemic_Cell_Detective...     NaN\n",
              "10657  /content/drive/MyDrive/Leukemic_Cell_Detective...     NaN\n",
              "10658  /content/drive/MyDrive/Leukemic_Cell_Detective...     NaN\n",
              "10659  /content/drive/MyDrive/Leukemic_Cell_Detective...     NaN\n",
              "10660  /content/drive/MyDrive/Leukemic_Cell_Detective...     NaN\n",
              "\n",
              "[10661 rows x 2 columns]"
            ]
          },
          "execution_count": 20,
          "metadata": {},
          "output_type": "execute_result"
        }
      ],
      "source": [
        "data_train = {\"img_data\":img_data_train,\n",
        "        \"labels\":[np.nan for x in range(len(img_data_train))]}\n",
        "\n",
        "data_train_df = pd.DataFrame(data_train) \n",
        "data_train_df"
      ]
    },
    {
      "cell_type": "code",
      "execution_count": 21,
      "metadata": {
        "colab": {
          "base_uri": "https://localhost:8080/"
        },
        "id": "KFJy2IBn7Fnz",
        "outputId": "df0a9841-b452-45c6-88d1-0f578664fc22"
      },
      "outputs": [
        {
          "name": "stderr",
          "output_type": "stream",
          "text": [
            "<ipython-input-21-0649835c6be5>:1: SettingWithCopyWarning: \n",
            "A value is trying to be set on a copy of a slice from a DataFrame\n",
            "\n",
            "See the caveats in the documentation: https://pandas.pydata.org/pandas-docs/stable/user_guide/indexing.html#returning-a-view-versus-a-copy\n",
            "  data_train_df[\"labels\"][0:7272] = 1 # ALL\n",
            "<ipython-input-21-0649835c6be5>:2: SettingWithCopyWarning: \n",
            "A value is trying to be set on a copy of a slice from a DataFrame\n",
            "\n",
            "See the caveats in the documentation: https://pandas.pydata.org/pandas-docs/stable/user_guide/indexing.html#returning-a-view-versus-a-copy\n",
            "  data_train_df[\"labels\"][7272:] = 0 # HEM\n"
          ]
        }
      ],
      "source": [
        "data_train_df[\"labels\"][0:7272] = 1 # ALL\n",
        "data_train_df[\"labels\"][7272:] = 0 # HEM"
      ]
    },
    {
      "cell_type": "code",
      "execution_count": 22,
      "metadata": {
        "colab": {
          "base_uri": "https://localhost:8080/",
          "height": 1000
        },
        "id": "KUo5uctX7Fwk",
        "outputId": "066196c7-a1c9-4e71-ab10-6fc1cb67b557"
      },
      "outputs": [
        {
          "data": {
            "text/html": [
              "\n",
              "  <div id=\"df-ff409355-7b81-493d-bd30-fab3b6b47b43\">\n",
              "    <div class=\"colab-df-container\">\n",
              "      <div>\n",
              "<style scoped>\n",
              "    .dataframe tbody tr th:only-of-type {\n",
              "        vertical-align: middle;\n",
              "    }\n",
              "\n",
              "    .dataframe tbody tr th {\n",
              "        vertical-align: top;\n",
              "    }\n",
              "\n",
              "    .dataframe thead th {\n",
              "        text-align: right;\n",
              "    }\n",
              "</style>\n",
              "<table border=\"1\" class=\"dataframe\">\n",
              "  <thead>\n",
              "    <tr style=\"text-align: right;\">\n",
              "      <th></th>\n",
              "      <th>img_data</th>\n",
              "      <th>labels</th>\n",
              "    </tr>\n",
              "  </thead>\n",
              "  <tbody>\n",
              "    <tr>\n",
              "      <th>7250</th>\n",
              "      <td>/content/drive/MyDrive/Leukemic_Cell_Detective...</td>\n",
              "      <td>1.0</td>\n",
              "    </tr>\n",
              "    <tr>\n",
              "      <th>7251</th>\n",
              "      <td>/content/drive/MyDrive/Leukemic_Cell_Detective...</td>\n",
              "      <td>1.0</td>\n",
              "    </tr>\n",
              "    <tr>\n",
              "      <th>7252</th>\n",
              "      <td>/content/drive/MyDrive/Leukemic_Cell_Detective...</td>\n",
              "      <td>1.0</td>\n",
              "    </tr>\n",
              "    <tr>\n",
              "      <th>7253</th>\n",
              "      <td>/content/drive/MyDrive/Leukemic_Cell_Detective...</td>\n",
              "      <td>1.0</td>\n",
              "    </tr>\n",
              "    <tr>\n",
              "      <th>7254</th>\n",
              "      <td>/content/drive/MyDrive/Leukemic_Cell_Detective...</td>\n",
              "      <td>1.0</td>\n",
              "    </tr>\n",
              "    <tr>\n",
              "      <th>7255</th>\n",
              "      <td>/content/drive/MyDrive/Leukemic_Cell_Detective...</td>\n",
              "      <td>1.0</td>\n",
              "    </tr>\n",
              "    <tr>\n",
              "      <th>7256</th>\n",
              "      <td>/content/drive/MyDrive/Leukemic_Cell_Detective...</td>\n",
              "      <td>1.0</td>\n",
              "    </tr>\n",
              "    <tr>\n",
              "      <th>7257</th>\n",
              "      <td>/content/drive/MyDrive/Leukemic_Cell_Detective...</td>\n",
              "      <td>1.0</td>\n",
              "    </tr>\n",
              "    <tr>\n",
              "      <th>7258</th>\n",
              "      <td>/content/drive/MyDrive/Leukemic_Cell_Detective...</td>\n",
              "      <td>1.0</td>\n",
              "    </tr>\n",
              "    <tr>\n",
              "      <th>7259</th>\n",
              "      <td>/content/drive/MyDrive/Leukemic_Cell_Detective...</td>\n",
              "      <td>1.0</td>\n",
              "    </tr>\n",
              "    <tr>\n",
              "      <th>7260</th>\n",
              "      <td>/content/drive/MyDrive/Leukemic_Cell_Detective...</td>\n",
              "      <td>1.0</td>\n",
              "    </tr>\n",
              "    <tr>\n",
              "      <th>7261</th>\n",
              "      <td>/content/drive/MyDrive/Leukemic_Cell_Detective...</td>\n",
              "      <td>1.0</td>\n",
              "    </tr>\n",
              "    <tr>\n",
              "      <th>7262</th>\n",
              "      <td>/content/drive/MyDrive/Leukemic_Cell_Detective...</td>\n",
              "      <td>1.0</td>\n",
              "    </tr>\n",
              "    <tr>\n",
              "      <th>7263</th>\n",
              "      <td>/content/drive/MyDrive/Leukemic_Cell_Detective...</td>\n",
              "      <td>1.0</td>\n",
              "    </tr>\n",
              "    <tr>\n",
              "      <th>7264</th>\n",
              "      <td>/content/drive/MyDrive/Leukemic_Cell_Detective...</td>\n",
              "      <td>1.0</td>\n",
              "    </tr>\n",
              "    <tr>\n",
              "      <th>7265</th>\n",
              "      <td>/content/drive/MyDrive/Leukemic_Cell_Detective...</td>\n",
              "      <td>1.0</td>\n",
              "    </tr>\n",
              "    <tr>\n",
              "      <th>7266</th>\n",
              "      <td>/content/drive/MyDrive/Leukemic_Cell_Detective...</td>\n",
              "      <td>1.0</td>\n",
              "    </tr>\n",
              "    <tr>\n",
              "      <th>7267</th>\n",
              "      <td>/content/drive/MyDrive/Leukemic_Cell_Detective...</td>\n",
              "      <td>1.0</td>\n",
              "    </tr>\n",
              "    <tr>\n",
              "      <th>7268</th>\n",
              "      <td>/content/drive/MyDrive/Leukemic_Cell_Detective...</td>\n",
              "      <td>1.0</td>\n",
              "    </tr>\n",
              "    <tr>\n",
              "      <th>7269</th>\n",
              "      <td>/content/drive/MyDrive/Leukemic_Cell_Detective...</td>\n",
              "      <td>1.0</td>\n",
              "    </tr>\n",
              "    <tr>\n",
              "      <th>7270</th>\n",
              "      <td>/content/drive/MyDrive/Leukemic_Cell_Detective...</td>\n",
              "      <td>1.0</td>\n",
              "    </tr>\n",
              "    <tr>\n",
              "      <th>7271</th>\n",
              "      <td>/content/drive/MyDrive/Leukemic_Cell_Detective...</td>\n",
              "      <td>1.0</td>\n",
              "    </tr>\n",
              "    <tr>\n",
              "      <th>7272</th>\n",
              "      <td>/content/drive/MyDrive/Leukemic_Cell_Detective...</td>\n",
              "      <td>0.0</td>\n",
              "    </tr>\n",
              "    <tr>\n",
              "      <th>7273</th>\n",
              "      <td>/content/drive/MyDrive/Leukemic_Cell_Detective...</td>\n",
              "      <td>0.0</td>\n",
              "    </tr>\n",
              "    <tr>\n",
              "      <th>7274</th>\n",
              "      <td>/content/drive/MyDrive/Leukemic_Cell_Detective...</td>\n",
              "      <td>0.0</td>\n",
              "    </tr>\n",
              "    <tr>\n",
              "      <th>7275</th>\n",
              "      <td>/content/drive/MyDrive/Leukemic_Cell_Detective...</td>\n",
              "      <td>0.0</td>\n",
              "    </tr>\n",
              "    <tr>\n",
              "      <th>7276</th>\n",
              "      <td>/content/drive/MyDrive/Leukemic_Cell_Detective...</td>\n",
              "      <td>0.0</td>\n",
              "    </tr>\n",
              "    <tr>\n",
              "      <th>7277</th>\n",
              "      <td>/content/drive/MyDrive/Leukemic_Cell_Detective...</td>\n",
              "      <td>0.0</td>\n",
              "    </tr>\n",
              "    <tr>\n",
              "      <th>7278</th>\n",
              "      <td>/content/drive/MyDrive/Leukemic_Cell_Detective...</td>\n",
              "      <td>0.0</td>\n",
              "    </tr>\n",
              "    <tr>\n",
              "      <th>7279</th>\n",
              "      <td>/content/drive/MyDrive/Leukemic_Cell_Detective...</td>\n",
              "      <td>0.0</td>\n",
              "    </tr>\n",
              "    <tr>\n",
              "      <th>7280</th>\n",
              "      <td>/content/drive/MyDrive/Leukemic_Cell_Detective...</td>\n",
              "      <td>0.0</td>\n",
              "    </tr>\n",
              "    <tr>\n",
              "      <th>7281</th>\n",
              "      <td>/content/drive/MyDrive/Leukemic_Cell_Detective...</td>\n",
              "      <td>0.0</td>\n",
              "    </tr>\n",
              "    <tr>\n",
              "      <th>7282</th>\n",
              "      <td>/content/drive/MyDrive/Leukemic_Cell_Detective...</td>\n",
              "      <td>0.0</td>\n",
              "    </tr>\n",
              "    <tr>\n",
              "      <th>7283</th>\n",
              "      <td>/content/drive/MyDrive/Leukemic_Cell_Detective...</td>\n",
              "      <td>0.0</td>\n",
              "    </tr>\n",
              "    <tr>\n",
              "      <th>7284</th>\n",
              "      <td>/content/drive/MyDrive/Leukemic_Cell_Detective...</td>\n",
              "      <td>0.0</td>\n",
              "    </tr>\n",
              "    <tr>\n",
              "      <th>7285</th>\n",
              "      <td>/content/drive/MyDrive/Leukemic_Cell_Detective...</td>\n",
              "      <td>0.0</td>\n",
              "    </tr>\n",
              "    <tr>\n",
              "      <th>7286</th>\n",
              "      <td>/content/drive/MyDrive/Leukemic_Cell_Detective...</td>\n",
              "      <td>0.0</td>\n",
              "    </tr>\n",
              "    <tr>\n",
              "      <th>7287</th>\n",
              "      <td>/content/drive/MyDrive/Leukemic_Cell_Detective...</td>\n",
              "      <td>0.0</td>\n",
              "    </tr>\n",
              "    <tr>\n",
              "      <th>7288</th>\n",
              "      <td>/content/drive/MyDrive/Leukemic_Cell_Detective...</td>\n",
              "      <td>0.0</td>\n",
              "    </tr>\n",
              "    <tr>\n",
              "      <th>7289</th>\n",
              "      <td>/content/drive/MyDrive/Leukemic_Cell_Detective...</td>\n",
              "      <td>0.0</td>\n",
              "    </tr>\n",
              "  </tbody>\n",
              "</table>\n",
              "</div>\n",
              "      <button class=\"colab-df-convert\" onclick=\"convertToInteractive('df-ff409355-7b81-493d-bd30-fab3b6b47b43')\"\n",
              "              title=\"Convert this dataframe to an interactive table.\"\n",
              "              style=\"display:none;\">\n",
              "        \n",
              "  <svg xmlns=\"http://www.w3.org/2000/svg\" height=\"24px\"viewBox=\"0 0 24 24\"\n",
              "       width=\"24px\">\n",
              "    <path d=\"M0 0h24v24H0V0z\" fill=\"none\"/>\n",
              "    <path d=\"M18.56 5.44l.94 2.06.94-2.06 2.06-.94-2.06-.94-.94-2.06-.94 2.06-2.06.94zm-11 1L8.5 8.5l.94-2.06 2.06-.94-2.06-.94L8.5 2.5l-.94 2.06-2.06.94zm10 10l.94 2.06.94-2.06 2.06-.94-2.06-.94-.94-2.06-.94 2.06-2.06.94z\"/><path d=\"M17.41 7.96l-1.37-1.37c-.4-.4-.92-.59-1.43-.59-.52 0-1.04.2-1.43.59L10.3 9.45l-7.72 7.72c-.78.78-.78 2.05 0 2.83L4 21.41c.39.39.9.59 1.41.59.51 0 1.02-.2 1.41-.59l7.78-7.78 2.81-2.81c.8-.78.8-2.07 0-2.86zM5.41 20L4 18.59l7.72-7.72 1.47 1.35L5.41 20z\"/>\n",
              "  </svg>\n",
              "      </button>\n",
              "      \n",
              "  <style>\n",
              "    .colab-df-container {\n",
              "      display:flex;\n",
              "      flex-wrap:wrap;\n",
              "      gap: 12px;\n",
              "    }\n",
              "\n",
              "    .colab-df-convert {\n",
              "      background-color: #E8F0FE;\n",
              "      border: none;\n",
              "      border-radius: 50%;\n",
              "      cursor: pointer;\n",
              "      display: none;\n",
              "      fill: #1967D2;\n",
              "      height: 32px;\n",
              "      padding: 0 0 0 0;\n",
              "      width: 32px;\n",
              "    }\n",
              "\n",
              "    .colab-df-convert:hover {\n",
              "      background-color: #E2EBFA;\n",
              "      box-shadow: 0px 1px 2px rgba(60, 64, 67, 0.3), 0px 1px 3px 1px rgba(60, 64, 67, 0.15);\n",
              "      fill: #174EA6;\n",
              "    }\n",
              "\n",
              "    [theme=dark] .colab-df-convert {\n",
              "      background-color: #3B4455;\n",
              "      fill: #D2E3FC;\n",
              "    }\n",
              "\n",
              "    [theme=dark] .colab-df-convert:hover {\n",
              "      background-color: #434B5C;\n",
              "      box-shadow: 0px 1px 3px 1px rgba(0, 0, 0, 0.15);\n",
              "      filter: drop-shadow(0px 1px 2px rgba(0, 0, 0, 0.3));\n",
              "      fill: #FFFFFF;\n",
              "    }\n",
              "  </style>\n",
              "\n",
              "      <script>\n",
              "        const buttonEl =\n",
              "          document.querySelector('#df-ff409355-7b81-493d-bd30-fab3b6b47b43 button.colab-df-convert');\n",
              "        buttonEl.style.display =\n",
              "          google.colab.kernel.accessAllowed ? 'block' : 'none';\n",
              "\n",
              "        async function convertToInteractive(key) {\n",
              "          const element = document.querySelector('#df-ff409355-7b81-493d-bd30-fab3b6b47b43');\n",
              "          const dataTable =\n",
              "            await google.colab.kernel.invokeFunction('convertToInteractive',\n",
              "                                                     [key], {});\n",
              "          if (!dataTable) return;\n",
              "\n",
              "          const docLinkHtml = 'Like what you see? Visit the ' +\n",
              "            '<a target=\"_blank\" href=https://colab.research.google.com/notebooks/data_table.ipynb>data table notebook</a>'\n",
              "            + ' to learn more about interactive tables.';\n",
              "          element.innerHTML = '';\n",
              "          dataTable['output_type'] = 'display_data';\n",
              "          await google.colab.output.renderOutput(dataTable, element);\n",
              "          const docLink = document.createElement('div');\n",
              "          docLink.innerHTML = docLinkHtml;\n",
              "          element.appendChild(docLink);\n",
              "        }\n",
              "      </script>\n",
              "    </div>\n",
              "  </div>\n",
              "  "
            ],
            "text/plain": [
              "                                               img_data  labels\n",
              "7250  /content/drive/MyDrive/Leukemic_Cell_Detective...     1.0\n",
              "7251  /content/drive/MyDrive/Leukemic_Cell_Detective...     1.0\n",
              "7252  /content/drive/MyDrive/Leukemic_Cell_Detective...     1.0\n",
              "7253  /content/drive/MyDrive/Leukemic_Cell_Detective...     1.0\n",
              "7254  /content/drive/MyDrive/Leukemic_Cell_Detective...     1.0\n",
              "7255  /content/drive/MyDrive/Leukemic_Cell_Detective...     1.0\n",
              "7256  /content/drive/MyDrive/Leukemic_Cell_Detective...     1.0\n",
              "7257  /content/drive/MyDrive/Leukemic_Cell_Detective...     1.0\n",
              "7258  /content/drive/MyDrive/Leukemic_Cell_Detective...     1.0\n",
              "7259  /content/drive/MyDrive/Leukemic_Cell_Detective...     1.0\n",
              "7260  /content/drive/MyDrive/Leukemic_Cell_Detective...     1.0\n",
              "7261  /content/drive/MyDrive/Leukemic_Cell_Detective...     1.0\n",
              "7262  /content/drive/MyDrive/Leukemic_Cell_Detective...     1.0\n",
              "7263  /content/drive/MyDrive/Leukemic_Cell_Detective...     1.0\n",
              "7264  /content/drive/MyDrive/Leukemic_Cell_Detective...     1.0\n",
              "7265  /content/drive/MyDrive/Leukemic_Cell_Detective...     1.0\n",
              "7266  /content/drive/MyDrive/Leukemic_Cell_Detective...     1.0\n",
              "7267  /content/drive/MyDrive/Leukemic_Cell_Detective...     1.0\n",
              "7268  /content/drive/MyDrive/Leukemic_Cell_Detective...     1.0\n",
              "7269  /content/drive/MyDrive/Leukemic_Cell_Detective...     1.0\n",
              "7270  /content/drive/MyDrive/Leukemic_Cell_Detective...     1.0\n",
              "7271  /content/drive/MyDrive/Leukemic_Cell_Detective...     1.0\n",
              "7272  /content/drive/MyDrive/Leukemic_Cell_Detective...     0.0\n",
              "7273  /content/drive/MyDrive/Leukemic_Cell_Detective...     0.0\n",
              "7274  /content/drive/MyDrive/Leukemic_Cell_Detective...     0.0\n",
              "7275  /content/drive/MyDrive/Leukemic_Cell_Detective...     0.0\n",
              "7276  /content/drive/MyDrive/Leukemic_Cell_Detective...     0.0\n",
              "7277  /content/drive/MyDrive/Leukemic_Cell_Detective...     0.0\n",
              "7278  /content/drive/MyDrive/Leukemic_Cell_Detective...     0.0\n",
              "7279  /content/drive/MyDrive/Leukemic_Cell_Detective...     0.0\n",
              "7280  /content/drive/MyDrive/Leukemic_Cell_Detective...     0.0\n",
              "7281  /content/drive/MyDrive/Leukemic_Cell_Detective...     0.0\n",
              "7282  /content/drive/MyDrive/Leukemic_Cell_Detective...     0.0\n",
              "7283  /content/drive/MyDrive/Leukemic_Cell_Detective...     0.0\n",
              "7284  /content/drive/MyDrive/Leukemic_Cell_Detective...     0.0\n",
              "7285  /content/drive/MyDrive/Leukemic_Cell_Detective...     0.0\n",
              "7286  /content/drive/MyDrive/Leukemic_Cell_Detective...     0.0\n",
              "7287  /content/drive/MyDrive/Leukemic_Cell_Detective...     0.0\n",
              "7288  /content/drive/MyDrive/Leukemic_Cell_Detective...     0.0\n",
              "7289  /content/drive/MyDrive/Leukemic_Cell_Detective...     0.0"
            ]
          },
          "execution_count": 22,
          "metadata": {},
          "output_type": "execute_result"
        }
      ],
      "source": [
        "data_train_df.iloc[7250:7290,:]"
      ]
    },
    {
      "cell_type": "code",
      "execution_count": 23,
      "metadata": {
        "colab": {
          "base_uri": "https://localhost:8080/"
        },
        "id": "R71PXI-lo_YG",
        "outputId": "42b336e3-8e25-4955-86ae-be7bbcb7797d"
      },
      "outputs": [
        {
          "data": {
            "text/plain": [
              "1.0    7272\n",
              "0.0    3389\n",
              "Name: labels, dtype: int64"
            ]
          },
          "execution_count": 23,
          "metadata": {},
          "output_type": "execute_result"
        }
      ],
      "source": [
        "data_train_df['labels'].value_counts()"
      ]
    },
    {
      "cell_type": "code",
      "execution_count": 24,
      "metadata": {
        "id": "Se1dn7AJno8f"
      },
      "outputs": [],
      "source": [
        "test_data_path = '/content/drive/MyDrive/Leukemic_Cell_Detective/C-NMC_Leukemia/testing_data/C-NMC_test_prelim_phase_data'\n",
        "test_data_labels = '/content/drive/MyDrive/Leukemic_Cell_Detective/C-NMC_Leukemia/testing_data/C-NMC_test_prelim_phase_data_labels.csv'"
      ]
    },
    {
      "cell_type": "code",
      "execution_count": 25,
      "metadata": {
        "id": "KA4sTNjWm31R"
      },
      "outputs": [],
      "source": [
        "#from tensorflow.keras.utils import image_dataset_from_directory\n"
      ]
    },
    {
      "cell_type": "code",
      "execution_count": 26,
      "metadata": {
        "id": "1zCIksOInAQI"
      },
      "outputs": [],
      "source": [
        "#hem_aug = image_dataset_from_directory()"
      ]
    },
    {
      "cell_type": "code",
      "execution_count": 27,
      "metadata": {
        "id": "UE-IlU8dGto9"
      },
      "outputs": [],
      "source": [
        "from tensorflow.keras.utils import to_categorical\n",
        "from tqdm import tqdm\n",
        "import numpy as np\n",
        "import os\n",
        "from PIL import Image\n",
        "\n",
        "def load_data_train():\n",
        "    for j in range(1, 2, 3):\n",
        "      data_path = f\"/content/drive/MyDrive/Leukemic_Cell_Detective/C-NMC_Leukemia/training_data/fold_{j}/\"\n",
        "      classes = {'hem':0, 'all':1}\n",
        "      imgs = []\n",
        "      labels = []\n",
        "      for (cl, i) in classes.items():\n",
        "          images_path = [elt for elt in os.listdir(os.path.join(data_path, cl)) if elt.find('.bmp')>0]\n",
        "          for img in tqdm(images_path[:4600]):\n",
        "              path = os.path.join(data_path, cl, img)\n",
        "              if os.path.exists(path):\n",
        "                  image = Image.open(path)\n",
        "                  imgs.append(np.array(image))\n",
        "                  labels.append(i)\n",
        "\n",
        "      X = np.array(imgs)\n",
        "      num_classes = len(set(labels))\n",
        "      y = to_categorical(labels, num_classes)\n",
        "\n",
        "      # Finally we shuffle:\n",
        "      p = np.random.permutation(len(X))\n",
        "      X_train, y_train = X[p], y[p]\n",
        "    \n",
        "    return X_train, y_train, num_classes"
      ]
    },
    {
      "cell_type": "code",
      "execution_count": 28,
      "metadata": {
        "id": "_fquqEeazX92"
      },
      "outputs": [],
      "source": [
        "def load_data_test():\n",
        "  \n",
        "      data_path = test_data_path\n",
        "      imgs = []\n",
        "      test_img_data_labels_df = pd.read_csv(test_data_labels)\n",
        "      labels = list(test_img_data_labels_df['labels'])\n",
        "      \n",
        "      imgs_paths = []\n",
        "      paths = get_path_image(test_data_path)\n",
        "      imgs_paths.extend(paths)     \n",
        "      for i in imgs_paths:\n",
        "        image = Image.open(i)\n",
        "        imgs.append(np.array(image))\n",
        "\n",
        "      X_test = np.array(imgs)\n",
        "      num_classes = len(set(labels))\n",
        "      y_test = to_categorical(labels, num_classes)\n",
        "    \n",
        "      return X_test, y_test, num_classes"
      ]
    },
    {
      "cell_type": "code",
      "execution_count": 29,
      "metadata": {
        "colab": {
          "base_uri": "https://localhost:8080/"
        },
        "id": "M7ih7FUc84kE",
        "outputId": "905ef99f-64c5-42d4-ed9b-595ddd6eb1f0"
      },
      "outputs": [
        {
          "name": "stderr",
          "output_type": "stream",
          "text": [
            "100%|██████████| 1163/1163 [00:20<00:00, 55.77it/s] \n",
            "100%|██████████| 2418/2418 [00:38<00:00, 62.41it/s] \n"
          ]
        }
      ],
      "source": [
        "X_train, y_train, num_classes = load_data_train()\n"
      ]
    },
    {
      "cell_type": "code",
      "execution_count": 30,
      "metadata": {
        "id": "9WOsCT9X5PS2"
      },
      "outputs": [],
      "source": [
        "X_test, y_test, num_classes = load_data_test()\n"
      ]
    },
    {
      "cell_type": "code",
      "execution_count": 31,
      "metadata": {
        "colab": {
          "base_uri": "https://localhost:8080/"
        },
        "id": "h3Ronl7CRIR2",
        "outputId": "dc703233-8c7d-45ac-f08c-161c19ad0358"
      },
      "outputs": [
        {
          "name": "stdout",
          "output_type": "stream",
          "text": [
            "(3581, 450, 450, 3)\n",
            "(3581, 2)\n",
            "(1867, 450, 450, 3)\n",
            "(1867, 2)\n"
          ]
        }
      ],
      "source": [
        "print(X_train.shape)\n",
        "print(y_train.shape)\n",
        "print(X_test.shape)\n",
        "print(y_test.shape)"
      ]
    },
    {
      "cell_type": "code",
      "execution_count": 32,
      "metadata": {
        "colab": {
          "base_uri": "https://localhost:8080/",
          "height": 204
        },
        "id": "2Tsl0EdmReir",
        "outputId": "30a93e59-7fe8-4bf8-8ed8-4cfc7e88cc32"
      },
      "outputs": [
        {
          "data": {
            "image/png": "[encoded data removed]",
            "text/plain": [
              "<Figure size 432x288 with 2 Axes>"
            ]
          },
          "metadata": {
            "needs_background": "light"
          },
          "output_type": "display_data"
        }
      ],
      "source": [
        "plt.subplot(1, 2, 1)\n",
        "plt.imshow(X_train[9]);\n",
        "plt.subplot(1, 2, 2)\n",
        "plt.imshow(X_test[11]);\n"
      ]
    },
    {
      "cell_type": "code",
      "execution_count": 33,
      "metadata": {
        "id": "Faw_iTxdXouT"
      },
      "outputs": [],
      "source": [
        "from tensorflow.keras.layers.experimental.preprocessing import Rescaling\n",
        "from tensorflow.keras import models, layers"
      ]
    },
    {
      "cell_type": "code",
      "execution_count": 1,
      "metadata": {
        "id": "okiY74GIXsga"
      },
      "outputs": [],
      "source": [
        "def load_own_model():\n",
        "\n",
        "  model = models.Sequential()\n",
        "\n",
        "  model.add(Rescaling(1./450, input_shape=(450,450,3)))\n",
        "\n",
        "  model.add(layers.Conv2D(8, (3, 3), activation='relu', padding='same'))\n",
        "  model.add(layers.MaxPool2D(pool_size=(2,2)))\n",
        "\n",
        "  model.add(layers.Conv2D(16, (2, 2), activation='relu', padding='same'))\n",
        "  model.add(layers.MaxPool2D(pool_size=(2,2)))\n",
        "  model.add(layers.Dropout(0.2))\n",
        "\n",
        "  model.add(layers.Conv2D(32, (2, 2), activation='relu', padding='same'))\n",
        "  model.add(layers.MaxPool2D(pool_size=(2,2)))\n",
        "  model.add(layers.Dropout(0.3))\n",
        "\n",
        "  model.add(layers.Flatten())\n",
        "\n",
        "  model.add(layers.Dense(10))\n",
        "\n",
        "  model.add(layers.Dense(2, activation='softmax'))\n",
        "\n",
        "  model.compile(loss='binary_crossentropy', optimizer='adam', metrics=['accuracy'])\n",
        "\n",
        "  return model"
      ]
    },
    {
      "cell_type": "code",
      "execution_count": null,
      "metadata": {
        "colab": {
          "base_uri": "https://localhost:8080/",
          "height": 294
        },
        "id": "LFaLLFx3X3IU",
        "outputId": "d97f6626-7717-4d78-937c-cd68e1a596ea"
      },
      "outputs": [],
      "source": [
        "base_model = load_own_model()"
      ]
    },
    {
      "cell_type": "code",
      "execution_count": 42,
      "metadata": {
        "colab": {
          "base_uri": "https://localhost:8080/"
        },
        "id": "Q_R_T3KShjS4",
        "outputId": "220f018f-1948-4fe3-ee1a-b30242a88de1"
      },
      "outputs": [
        {
          "name": "stdout",
          "output_type": "stream",
          "text": [
            "Model: \"sequential_2\"\n",
            "_________________________________________________________________\n",
            " Layer (type)                Output Shape              Param #   \n",
            "=================================================================\n",
            " rescaling_2 (Rescaling)     (None, 450, 450, 3)       0         \n",
            "                                                                 \n",
            " conv2d_6 (Conv2D)           (None, 450, 450, 8)       608       \n",
            "                                                                 \n",
            " max_pooling2d_6 (MaxPooling  (None, 225, 225, 8)      0         \n",
            " 2D)                                                             \n",
            "                                                                 \n",
            " conv2d_7 (Conv2D)           (None, 225, 225, 16)      2064      \n",
            "                                                                 \n",
            " max_pooling2d_7 (MaxPooling  (None, 112, 112, 16)     0         \n",
            " 2D)                                                             \n",
            "                                                                 \n",
            " dropout_4 (Dropout)         (None, 112, 112, 16)      0         \n",
            "                                                                 \n",
            " conv2d_8 (Conv2D)           (None, 112, 112, 32)      4640      \n",
            "                                                                 \n",
            " max_pooling2d_8 (MaxPooling  (None, 56, 56, 32)       0         \n",
            " 2D)                                                             \n",
            "                                                                 \n",
            " dropout_5 (Dropout)         (None, 56, 56, 32)        0         \n",
            "                                                                 \n",
            " flatten_2 (Flatten)         (None, 100352)            0         \n",
            "                                                                 \n",
            " dense_4 (Dense)             (None, 10)                1003530   \n",
            "                                                                 \n",
            " dense_5 (Dense)             (None, 2)                 22        \n",
            "                                                                 \n",
            "=================================================================\n",
            "Total params: 1,010,864\n",
            "Trainable params: 1,010,864\n",
            "Non-trainable params: 0\n",
            "_________________________________________________________________\n"
          ]
        }
      ],
      "source": [
        "base_model.summary()"
      ]
    },
    {
      "cell_type": "code",
      "execution_count": 43,
      "metadata": {
        "id": "FXs2NVRAYZ-y"
      },
      "outputs": [],
      "source": [
        "from tensorflow.keras.callbacks import EarlyStopping"
      ]
    },
    {
      "cell_type": "code",
      "execution_count": 44,
      "metadata": {
        "id": "nkI2PquEYc5T"
      },
      "outputs": [],
      "source": [
        "es_base = EarlyStopping(monitor = 'val_accuracy', \n",
        "                   mode = 'max', \n",
        "                   patience = 10, \n",
        "                   verbose = 1, \n",
        "                   restore_best_weights = True)"
      ]
    },
    {
      "cell_type": "code",
      "execution_count": null,
      "metadata": {
        "colab": {
          "base_uri": "https://localhost:8080/"
        },
        "id": "TrBrLcX2YgtB",
        "outputId": "caf9362a-ad8c-4c7f-d171-b27d41593f3e"
      },
      "outputs": [
        {
          "name": "stdout",
          "output_type": "stream",
          "text": [
            "Epoch 1/100\n"
          ]
        }
      ],
      "source": [
        "base_history = base_model.fit(X_train, y_train, validation_split=0.2, batch_size=128, callbacks=[es_base], epochs=100)"
      ]
    },
    {
      "cell_type": "code",
      "execution_count": null,
      "metadata": {
        "id": "UW4xnyrLZDc8"
      },
      "outputs": [],
      "source": [
        "base_model.evaluate(X_test, y_test)"
      ]
    },
    {
      "cell_type": "code",
      "execution_count": null,
      "metadata": {
        "id": "z5HwT3TiZWKL"
      },
      "outputs": [],
      "source": [
        "score = base_model.evaluate(X_test, y_test)[1]"
      ]
    },
    {
      "cell_type": "code",
      "execution_count": null,
      "metadata": {
        "id": "KAKanvpEZQ4F"
      },
      "outputs": [],
      "source": [
        "print(f\"The accuracy of a baseline model is: {score}\")"
      ]
    },
    {
      "cell_type": "code",
      "execution_count": null,
      "metadata": {
        "id": "QlrRAPLo3Diq"
      },
      "outputs": [],
      "source": [
        "from tensorflow.keras.applications.vgg16 import VGG16\n",
        "\n",
        "def load_model():\n",
        "    \n",
        "    model = VGG16(weights=\"imagenet\", include_top=False, input_shape=X_train[0].shape)\n",
        "    \n",
        "    return model"
      ]
    },
    {
      "cell_type": "code",
      "execution_count": null,
      "metadata": {
        "id": "6jwB8uiB3Zah"
      },
      "outputs": [],
      "source": [
        "model_VGG16 = load_model()"
      ]
    },
    {
      "cell_type": "code",
      "execution_count": null,
      "metadata": {
        "id": "PPeKa8tc3ox6"
      },
      "outputs": [],
      "source": [
        "model_VGG16.summary()"
      ]
    },
    {
      "cell_type": "code",
      "execution_count": null,
      "metadata": {
        "id": "CqjDj2lxSc2o"
      },
      "outputs": [],
      "source": [
        "def set_nontrainable_layers(model):\n",
        "    \n",
        "    model.trainable=False\n",
        "    \n",
        "    return model"
      ]
    },
    {
      "cell_type": "code",
      "execution_count": null,
      "metadata": {
        "id": "wju60GnbSenM"
      },
      "outputs": [],
      "source": [
        "model_VGG16 = set_nontrainable_layers(model_VGG16)"
      ]
    },
    {
      "cell_type": "code",
      "execution_count": null,
      "metadata": {
        "id": "38dDXKgGSn10"
      },
      "outputs": [],
      "source": [
        "model_VGG16.summary()"
      ]
    },
    {
      "cell_type": "code",
      "execution_count": null,
      "metadata": {
        "id": "3on390x2SxNv"
      },
      "outputs": [],
      "source": [
        "from tensorflow.keras import layers, models\n",
        "\n",
        "def add_last_layers(model):\n",
        "    '''Take a pre-trained model, set its parameters as non-trainable, and add additional trainable layers on top'''\n",
        "    \n",
        "    base_model = load_model()\n",
        "\n",
        "    base_model = set_nontrainable_layers(base_model)\n",
        "\n",
        "    flattening_layer = layers.Flatten()\n",
        "    dense_layer = layers.Dense(500, activation='relu')\n",
        "    prediction_layer = layers.Dense(2, activation='softmax')\n",
        "\n",
        "    model = models.Sequential([\n",
        "        base_model,\n",
        "        flattening_layer,\n",
        "        dense_layer,\n",
        "        prediction_layer\n",
        "        ])\n",
        "\n",
        "\n",
        "    return model"
      ]
    },
    {
      "cell_type": "code",
      "execution_count": null,
      "metadata": {
        "id": "L4n8H9rOTUt9"
      },
      "outputs": [],
      "source": [
        "model_VGG16_complete = add_last_layers(model_VGG16)"
      ]
    },
    {
      "cell_type": "code",
      "execution_count": null,
      "metadata": {
        "id": "Uv_kx4NqTZ0n"
      },
      "outputs": [],
      "source": [
        "model_VGG16_complete.summary()"
      ]
    },
    {
      "cell_type": "code",
      "execution_count": null,
      "metadata": {
        "id": "_TIddpEfThd6"
      },
      "outputs": [],
      "source": [
        "from tensorflow.keras import optimizers\n",
        "\n",
        "def build_model():\n",
        "    \n",
        "    model = model_VGG16_complete\n",
        "\n",
        "    opt = optimizers.Adam(learning_rate=1e-4)\n",
        "\n",
        "    model.compile(loss='binary_crossentropy', optimizer= opt, metrics='accuracy')\n",
        "\n",
        "    return model"
      ]
    },
    {
      "cell_type": "code",
      "execution_count": null,
      "metadata": {
        "id": "C3KMYNKVT0t9"
      },
      "outputs": [],
      "source": [
        "from tensorflow.keras.applications.vgg16 import preprocess_input"
      ]
    },
    {
      "cell_type": "code",
      "execution_count": null,
      "metadata": {
        "id": "w9ajWBVPT2am"
      },
      "outputs": [],
      "source": [
        "X_train = preprocess_input(X_train) \n",
        "X_val = preprocess_input(X_val)\n",
        "X_test = preprocess_input(X_test)"
      ]
    },
    {
      "cell_type": "code",
      "execution_count": null,
      "metadata": {
        "id": "eCf9dsrnT8sF"
      },
      "outputs": [],
      "source": [
        "model_ready = build_model()"
      ]
    },
    {
      "cell_type": "code",
      "execution_count": null,
      "metadata": {
        "id": "XuSIyITFUKrs"
      },
      "outputs": [],
      "source": [
        "from tensorflow.keras.callbacks import EarlyStopping\n",
        "es = EarlyStopping(patience=20)"
      ]
    },
    {
      "cell_type": "code",
      "execution_count": null,
      "metadata": {
        "id": "Nl1NDYuvT-2g"
      },
      "outputs": [],
      "source": [
        "history = model_ready.fit(X_train, y_train, validation_data=(X_val, y_val),\n",
        "                          callbacks=[es], batch_size=64, epochs=100)"
      ]
    },
    {
      "cell_type": "code",
      "execution_count": null,
      "metadata": {
        "id": "nrb1oPuvUU0q"
      },
      "outputs": [],
      "source": [
        "y_train.shape"
      ]
    },
    {
      "cell_type": "code",
      "execution_count": null,
      "metadata": {
        "id": "fT_r10XAVrI9"
      },
      "outputs": [],
      "source": [
        "def plot_history(history, title='', axs=None, exp_name=\"\"):\n",
        "    if axs is not None:\n",
        "        ax1, ax2 = axs\n",
        "    else:\n",
        "        f, (ax1, ax2) = plt.subplots(1, 2, figsize=(12, 4))\n",
        "    \n",
        "    if len(exp_name) > 0 and exp_name[0] != '_':\n",
        "        exp_name = '_' + exp_name\n",
        "    ax1.plot(history.history['loss'], label='train' + exp_name)\n",
        "    ax1.plot(history.history['val_loss'], label='val' + exp_name)\n",
        "    #ax1.set_ylim(0., 2.2)\n",
        "    ax1.set_title('loss')\n",
        "    ax1.legend()\n",
        "\n",
        "    ax2.plot(history.history['accuracy'], label='train accuracy'  + exp_name)\n",
        "    ax2.plot(history.history['val_accuracy'], label='val accuracy'  + exp_name)\n",
        "    #ax2.set_ylim(0.25, 1.)\n",
        "    ax2.set_title('Accuracy')\n",
        "    ax2.legend()\n",
        "    return (ax1, ax2)"
      ]
    },
    {
      "cell_type": "code",
      "execution_count": null,
      "metadata": {
        "id": "r0SmzHSsVtRg"
      },
      "outputs": [],
      "source": [
        "import matplotlib.pyplot as plot\n",
        "plot_history(history)"
      ]
    },
    {
      "cell_type": "code",
      "execution_count": null,
      "metadata": {
        "id": "dd6TF-eXV86h"
      },
      "outputs": [],
      "source": [
        "score = model_ready.evaluate(X_test, y_test)[1]"
      ]
    },
    {
      "cell_type": "code",
      "execution_count": null,
      "metadata": {
        "id": "z0nIuTWQWCSJ"
      },
      "outputs": [],
      "source": [
        "print(f\"The model accuracy on the test data is: {score}\")"
      ]
    }
  ],
  "metadata": {
    "colab": {
      "authorship_tag": "ABX9TyP6I+nQvQI+I8xbGgv5h81i",
      "include_colab_link": true,
      "provenance": []
    },
    "gpuClass": "standard",
    "kernelspec": {
      "display_name": "leukemic-env",
      "language": "python",
      "name": "python3"
    },
    "language_info": {
      "name": "python",
      "version": "3.10.6"
    },
    "vscode": {
      "interpreter": {
        "hash": "f1e08a2b351939f9bb1581236c8fdd8f9948527ad903e2dc45bf6e92e6ab8613"
      }
    }
  },
  "nbformat": 4,
  "nbformat_minor": 0
}
