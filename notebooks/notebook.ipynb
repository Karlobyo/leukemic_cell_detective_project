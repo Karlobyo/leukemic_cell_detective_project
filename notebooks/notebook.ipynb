{
 "cells": [
  {
   "cell_type": "code",
   "execution_count": 1,
   "metadata": {},
   "outputs": [
    {
     "name": "stdout",
     "output_type": "stream",
     "text": [
      "Hello my name is Jean\n"
     ]
    }
   ],
   "source": [
    "from leukemic_cell_detective.lib import who_am_i\n",
    "who_am_i()"
   ]
  }
 ],
 "metadata": {
  "kernelspec": {
   "display_name": "leukemic-env",
   "language": "python",
   "name": "python3"
  },
  "language_info": {
   "codemirror_mode": {
    "name": "ipython",
    "version": 3
   },
   "file_extension": ".py",
   "mimetype": "text/x-python",
   "name": "python",
   "nbconvert_exporter": "python",
   "pygments_lexer": "ipython3",
   "version": "3.10.6"
  },
  "orig_nbformat": 4,
  "vscode": {
   "interpreter": {
    "hash": "f1e08a2b351939f9bb1581236c8fdd8f9948527ad903e2dc45bf6e92e6ab8613"
   }
  }
 },
 "nbformat": 4,
 "nbformat_minor": 2
}
